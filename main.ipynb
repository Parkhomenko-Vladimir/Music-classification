{
 "cells": [
  {
   "cell_type": "code",
   "execution_count": 1,
   "id": "ea730c4f-d289-49e0-b943-2dc5dc12b5b9",
   "metadata": {},
   "outputs": [],
   "source": [
    "import pandas as pd\n",
    "import seaborn as sb\n",
    "import phik\n",
    "from phik import resources, report\n",
    "import matplotlib.pyplot as plt\n",
    "\n",
    "\n",
    "from sklearn.model_selection import train_test_split\n",
    "from sklearn.ensemble import RandomForestClassifier\n",
    "from sklearn.linear_model import LogisticRegression, LinearRegression\n",
    "from sklearn.model_selection import cross_validate\n",
    "from sklearn.preprocessing import StandardScaler\n",
    "from sklearn.preprocessing import OneHotEncoder\n",
    "\n",
    "from sklearn.ensemble import RandomForestClassifier\n",
    "from sklearn import svm, datasets\n",
    "from sklearn.model_selection import GridSearchCV\n",
    "from catboost import CatBoostClassifier"
   ]
  },
  {
   "cell_type": "code",
   "execution_count": null,
   "id": "a9db621b-0b39-49a2-87ec-231dae9d8a09",
   "metadata": {},
   "outputs": [],
   "source": []
  },
  {
   "cell_type": "code",
   "execution_count": 2,
   "id": "d3d3b530-83a1-46ac-9051-e81e385552f5",
   "metadata": {},
   "outputs": [],
   "source": [
    "df_train = pd.read_csv('kaggle_music_genre_train.csv')\n",
    "df_test = pd.read_csv('kaggle_music_genre_test.csv')"
   ]
  },
  {
   "cell_type": "code",
   "execution_count": 3,
   "id": "ff7458f9-8378-4efa-adcf-8bb8a78f2812",
   "metadata": {},
   "outputs": [
    {
     "data": {
      "text/html": [
       "<div>\n",
       "<style scoped>\n",
       "    .dataframe tbody tr th:only-of-type {\n",
       "        vertical-align: middle;\n",
       "    }\n",
       "\n",
       "    .dataframe tbody tr th {\n",
       "        vertical-align: top;\n",
       "    }\n",
       "\n",
       "    .dataframe thead th {\n",
       "        text-align: right;\n",
       "    }\n",
       "</style>\n",
       "<table border=\"1\" class=\"dataframe\">\n",
       "  <thead>\n",
       "    <tr style=\"text-align: right;\">\n",
       "      <th></th>\n",
       "      <th>instance_id</th>\n",
       "      <th>track_name</th>\n",
       "      <th>acousticness</th>\n",
       "      <th>danceability</th>\n",
       "      <th>duration_ms</th>\n",
       "      <th>energy</th>\n",
       "      <th>instrumentalness</th>\n",
       "      <th>key</th>\n",
       "      <th>liveness</th>\n",
       "      <th>loudness</th>\n",
       "      <th>mode</th>\n",
       "      <th>speechiness</th>\n",
       "      <th>tempo</th>\n",
       "      <th>obtained_date</th>\n",
       "      <th>valence</th>\n",
       "      <th>music_genre</th>\n",
       "    </tr>\n",
       "  </thead>\n",
       "  <tbody>\n",
       "    <tr>\n",
       "      <th>0</th>\n",
       "      <td>25143.0</td>\n",
       "      <td>Highwayman</td>\n",
       "      <td>0.48000</td>\n",
       "      <td>0.670</td>\n",
       "      <td>182653.0</td>\n",
       "      <td>0.351</td>\n",
       "      <td>0.017600</td>\n",
       "      <td>D</td>\n",
       "      <td>0.1150</td>\n",
       "      <td>-16.842</td>\n",
       "      <td>Major</td>\n",
       "      <td>0.0463</td>\n",
       "      <td>101.384</td>\n",
       "      <td>4-Apr</td>\n",
       "      <td>0.450</td>\n",
       "      <td>Country</td>\n",
       "    </tr>\n",
       "    <tr>\n",
       "      <th>1</th>\n",
       "      <td>26091.0</td>\n",
       "      <td>Toes Across The Floor</td>\n",
       "      <td>0.24300</td>\n",
       "      <td>0.452</td>\n",
       "      <td>187133.0</td>\n",
       "      <td>0.670</td>\n",
       "      <td>0.000051</td>\n",
       "      <td>A</td>\n",
       "      <td>0.1080</td>\n",
       "      <td>-8.392</td>\n",
       "      <td>Minor</td>\n",
       "      <td>0.0352</td>\n",
       "      <td>113.071</td>\n",
       "      <td>4-Apr</td>\n",
       "      <td>0.539</td>\n",
       "      <td>Rock</td>\n",
       "    </tr>\n",
       "    <tr>\n",
       "      <th>2</th>\n",
       "      <td>87888.0</td>\n",
       "      <td>First Person on Earth</td>\n",
       "      <td>0.22800</td>\n",
       "      <td>0.454</td>\n",
       "      <td>173448.0</td>\n",
       "      <td>0.804</td>\n",
       "      <td>0.000000</td>\n",
       "      <td>E</td>\n",
       "      <td>0.1810</td>\n",
       "      <td>-5.225</td>\n",
       "      <td>Minor</td>\n",
       "      <td>0.3710</td>\n",
       "      <td>80.980</td>\n",
       "      <td>4-Apr</td>\n",
       "      <td>0.344</td>\n",
       "      <td>Alternative</td>\n",
       "    </tr>\n",
       "    <tr>\n",
       "      <th>3</th>\n",
       "      <td>77021.0</td>\n",
       "      <td>No Te Veo - Digital Single</td>\n",
       "      <td>0.05580</td>\n",
       "      <td>0.847</td>\n",
       "      <td>255987.0</td>\n",
       "      <td>0.873</td>\n",
       "      <td>0.000003</td>\n",
       "      <td>G#</td>\n",
       "      <td>0.3250</td>\n",
       "      <td>-4.805</td>\n",
       "      <td>Minor</td>\n",
       "      <td>0.0804</td>\n",
       "      <td>116.007</td>\n",
       "      <td>4-Apr</td>\n",
       "      <td>0.966</td>\n",
       "      <td>Hip-Hop</td>\n",
       "    </tr>\n",
       "    <tr>\n",
       "      <th>4</th>\n",
       "      <td>20852.0</td>\n",
       "      <td>Chasing Shadows</td>\n",
       "      <td>0.22700</td>\n",
       "      <td>0.742</td>\n",
       "      <td>195333.0</td>\n",
       "      <td>0.575</td>\n",
       "      <td>0.000002</td>\n",
       "      <td>C</td>\n",
       "      <td>0.1760</td>\n",
       "      <td>-5.550</td>\n",
       "      <td>Major</td>\n",
       "      <td>0.0487</td>\n",
       "      <td>76.494</td>\n",
       "      <td>4-Apr</td>\n",
       "      <td>0.583</td>\n",
       "      <td>Alternative</td>\n",
       "    </tr>\n",
       "    <tr>\n",
       "      <th>...</th>\n",
       "      <td>...</td>\n",
       "      <td>...</td>\n",
       "      <td>...</td>\n",
       "      <td>...</td>\n",
       "      <td>...</td>\n",
       "      <td>...</td>\n",
       "      <td>...</td>\n",
       "      <td>...</td>\n",
       "      <td>...</td>\n",
       "      <td>...</td>\n",
       "      <td>...</td>\n",
       "      <td>...</td>\n",
       "      <td>...</td>\n",
       "      <td>...</td>\n",
       "      <td>...</td>\n",
       "      <td>...</td>\n",
       "    </tr>\n",
       "    <tr>\n",
       "      <th>20389</th>\n",
       "      <td>47396.0</td>\n",
       "      <td>O Pato</td>\n",
       "      <td>0.71900</td>\n",
       "      <td>0.725</td>\n",
       "      <td>-1.0</td>\n",
       "      <td>0.483</td>\n",
       "      <td>0.000000</td>\n",
       "      <td>NaN</td>\n",
       "      <td>0.0797</td>\n",
       "      <td>-13.314</td>\n",
       "      <td>Minor</td>\n",
       "      <td>0.0438</td>\n",
       "      <td>87.413</td>\n",
       "      <td>4-Apr</td>\n",
       "      <td>0.942</td>\n",
       "      <td>Jazz</td>\n",
       "    </tr>\n",
       "    <tr>\n",
       "      <th>20390</th>\n",
       "      <td>44799.0</td>\n",
       "      <td>Mt. Washington</td>\n",
       "      <td>0.19000</td>\n",
       "      <td>0.482</td>\n",
       "      <td>198933.0</td>\n",
       "      <td>0.362</td>\n",
       "      <td>0.005620</td>\n",
       "      <td>F#</td>\n",
       "      <td>0.0913</td>\n",
       "      <td>-10.358</td>\n",
       "      <td>Minor</td>\n",
       "      <td>0.0299</td>\n",
       "      <td>76.879</td>\n",
       "      <td>4-Apr</td>\n",
       "      <td>0.174</td>\n",
       "      <td>Rock</td>\n",
       "    </tr>\n",
       "    <tr>\n",
       "      <th>20391</th>\n",
       "      <td>33350.0</td>\n",
       "      <td>Original Prankster</td>\n",
       "      <td>0.00061</td>\n",
       "      <td>0.663</td>\n",
       "      <td>220947.0</td>\n",
       "      <td>0.886</td>\n",
       "      <td>0.000025</td>\n",
       "      <td>D</td>\n",
       "      <td>0.2840</td>\n",
       "      <td>-4.149</td>\n",
       "      <td>Major</td>\n",
       "      <td>0.0358</td>\n",
       "      <td>146.803</td>\n",
       "      <td>4-Apr</td>\n",
       "      <td>0.942</td>\n",
       "      <td>Alternative</td>\n",
       "    </tr>\n",
       "    <tr>\n",
       "      <th>20392</th>\n",
       "      <td>77920.0</td>\n",
       "      <td>4Peat</td>\n",
       "      <td>0.00310</td>\n",
       "      <td>0.914</td>\n",
       "      <td>162214.0</td>\n",
       "      <td>0.515</td>\n",
       "      <td>0.000000</td>\n",
       "      <td>C#</td>\n",
       "      <td>0.1050</td>\n",
       "      <td>-9.934</td>\n",
       "      <td>Major</td>\n",
       "      <td>0.3560</td>\n",
       "      <td>150.016</td>\n",
       "      <td>4-Apr</td>\n",
       "      <td>0.215</td>\n",
       "      <td>Rap</td>\n",
       "    </tr>\n",
       "    <tr>\n",
       "      <th>20393</th>\n",
       "      <td>86375.0</td>\n",
       "      <td>Trouble (feat. MC Spyder)</td>\n",
       "      <td>0.05350</td>\n",
       "      <td>0.717</td>\n",
       "      <td>271885.0</td>\n",
       "      <td>0.983</td>\n",
       "      <td>0.491000</td>\n",
       "      <td>D#</td>\n",
       "      <td>0.1080</td>\n",
       "      <td>-1.615</td>\n",
       "      <td>Minor</td>\n",
       "      <td>0.0942</td>\n",
       "      <td>128.004</td>\n",
       "      <td>4-Apr</td>\n",
       "      <td>0.077</td>\n",
       "      <td>Electronic</td>\n",
       "    </tr>\n",
       "  </tbody>\n",
       "</table>\n",
       "<p>20394 rows × 16 columns</p>\n",
       "</div>"
      ],
      "text/plain": [
       "       instance_id                  track_name  acousticness  danceability  \\\n",
       "0          25143.0                  Highwayman       0.48000         0.670   \n",
       "1          26091.0       Toes Across The Floor       0.24300         0.452   \n",
       "2          87888.0       First Person on Earth       0.22800         0.454   \n",
       "3          77021.0  No Te Veo - Digital Single       0.05580         0.847   \n",
       "4          20852.0             Chasing Shadows       0.22700         0.742   \n",
       "...            ...                         ...           ...           ...   \n",
       "20389      47396.0                      O Pato       0.71900         0.725   \n",
       "20390      44799.0              Mt. Washington       0.19000         0.482   \n",
       "20391      33350.0          Original Prankster       0.00061         0.663   \n",
       "20392      77920.0                       4Peat       0.00310         0.914   \n",
       "20393      86375.0   Trouble (feat. MC Spyder)       0.05350         0.717   \n",
       "\n",
       "       duration_ms  energy  instrumentalness  key  liveness  loudness   mode  \\\n",
       "0         182653.0   0.351          0.017600    D    0.1150   -16.842  Major   \n",
       "1         187133.0   0.670          0.000051    A    0.1080    -8.392  Minor   \n",
       "2         173448.0   0.804          0.000000    E    0.1810    -5.225  Minor   \n",
       "3         255987.0   0.873          0.000003   G#    0.3250    -4.805  Minor   \n",
       "4         195333.0   0.575          0.000002    C    0.1760    -5.550  Major   \n",
       "...            ...     ...               ...  ...       ...       ...    ...   \n",
       "20389         -1.0   0.483          0.000000  NaN    0.0797   -13.314  Minor   \n",
       "20390     198933.0   0.362          0.005620   F#    0.0913   -10.358  Minor   \n",
       "20391     220947.0   0.886          0.000025    D    0.2840    -4.149  Major   \n",
       "20392     162214.0   0.515          0.000000   C#    0.1050    -9.934  Major   \n",
       "20393     271885.0   0.983          0.491000   D#    0.1080    -1.615  Minor   \n",
       "\n",
       "       speechiness    tempo obtained_date  valence  music_genre  \n",
       "0           0.0463  101.384         4-Apr    0.450      Country  \n",
       "1           0.0352  113.071         4-Apr    0.539         Rock  \n",
       "2           0.3710   80.980         4-Apr    0.344  Alternative  \n",
       "3           0.0804  116.007         4-Apr    0.966      Hip-Hop  \n",
       "4           0.0487   76.494         4-Apr    0.583  Alternative  \n",
       "...            ...      ...           ...      ...          ...  \n",
       "20389       0.0438   87.413         4-Apr    0.942         Jazz  \n",
       "20390       0.0299   76.879         4-Apr    0.174         Rock  \n",
       "20391       0.0358  146.803         4-Apr    0.942  Alternative  \n",
       "20392       0.3560  150.016         4-Apr    0.215          Rap  \n",
       "20393       0.0942  128.004         4-Apr    0.077   Electronic  \n",
       "\n",
       "[20394 rows x 16 columns]"
      ]
     },
     "execution_count": 3,
     "metadata": {},
     "output_type": "execute_result"
    }
   ],
   "source": [
    "df_train"
   ]
  },
  {
   "cell_type": "code",
   "execution_count": 4,
   "id": "bc6b82ce-3f08-43bc-af19-0cdebce24802",
   "metadata": {},
   "outputs": [
    {
     "data": {
      "text/html": [
       "<div>\n",
       "<style scoped>\n",
       "    .dataframe tbody tr th:only-of-type {\n",
       "        vertical-align: middle;\n",
       "    }\n",
       "\n",
       "    .dataframe tbody tr th {\n",
       "        vertical-align: top;\n",
       "    }\n",
       "\n",
       "    .dataframe thead th {\n",
       "        text-align: right;\n",
       "    }\n",
       "</style>\n",
       "<table border=\"1\" class=\"dataframe\">\n",
       "  <thead>\n",
       "    <tr style=\"text-align: right;\">\n",
       "      <th></th>\n",
       "      <th>instance_id</th>\n",
       "      <th>track_name</th>\n",
       "      <th>acousticness</th>\n",
       "      <th>danceability</th>\n",
       "      <th>duration_ms</th>\n",
       "      <th>energy</th>\n",
       "      <th>instrumentalness</th>\n",
       "      <th>key</th>\n",
       "      <th>liveness</th>\n",
       "      <th>loudness</th>\n",
       "      <th>mode</th>\n",
       "      <th>speechiness</th>\n",
       "      <th>tempo</th>\n",
       "      <th>obtained_date</th>\n",
       "      <th>valence</th>\n",
       "    </tr>\n",
       "  </thead>\n",
       "  <tbody>\n",
       "    <tr>\n",
       "      <th>0</th>\n",
       "      <td>48564</td>\n",
       "      <td>Low Class Conspiracy</td>\n",
       "      <td>0.301000</td>\n",
       "      <td>0.757</td>\n",
       "      <td>146213.0</td>\n",
       "      <td>0.679</td>\n",
       "      <td>0.00000</td>\n",
       "      <td>A#</td>\n",
       "      <td>0.3030</td>\n",
       "      <td>-7.136</td>\n",
       "      <td>Minor</td>\n",
       "      <td>0.3560</td>\n",
       "      <td>90.361</td>\n",
       "      <td>4-Apr</td>\n",
       "      <td>0.895</td>\n",
       "    </tr>\n",
       "    <tr>\n",
       "      <th>1</th>\n",
       "      <td>72394</td>\n",
       "      <td>The Hunter</td>\n",
       "      <td>0.538000</td>\n",
       "      <td>0.256</td>\n",
       "      <td>240360.0</td>\n",
       "      <td>0.523</td>\n",
       "      <td>0.00832</td>\n",
       "      <td>G#</td>\n",
       "      <td>0.0849</td>\n",
       "      <td>-5.175</td>\n",
       "      <td>Major</td>\n",
       "      <td>0.0294</td>\n",
       "      <td>78.385</td>\n",
       "      <td>4-Apr</td>\n",
       "      <td>0.318</td>\n",
       "    </tr>\n",
       "    <tr>\n",
       "      <th>2</th>\n",
       "      <td>88081</td>\n",
       "      <td>Hate Me Now</td>\n",
       "      <td>0.005830</td>\n",
       "      <td>0.678</td>\n",
       "      <td>284000.0</td>\n",
       "      <td>0.770</td>\n",
       "      <td>0.00000</td>\n",
       "      <td>A</td>\n",
       "      <td>0.1090</td>\n",
       "      <td>-4.399</td>\n",
       "      <td>Minor</td>\n",
       "      <td>0.2220</td>\n",
       "      <td>90.000</td>\n",
       "      <td>4-Apr</td>\n",
       "      <td>0.412</td>\n",
       "    </tr>\n",
       "    <tr>\n",
       "      <th>3</th>\n",
       "      <td>78331</td>\n",
       "      <td>Somebody Ain't You</td>\n",
       "      <td>0.020300</td>\n",
       "      <td>0.592</td>\n",
       "      <td>177354.0</td>\n",
       "      <td>0.749</td>\n",
       "      <td>0.00000</td>\n",
       "      <td>B</td>\n",
       "      <td>0.1220</td>\n",
       "      <td>-4.604</td>\n",
       "      <td>Major</td>\n",
       "      <td>0.0483</td>\n",
       "      <td>160.046</td>\n",
       "      <td>4-Apr</td>\n",
       "      <td>0.614</td>\n",
       "    </tr>\n",
       "    <tr>\n",
       "      <th>4</th>\n",
       "      <td>72636</td>\n",
       "      <td>Sour Mango</td>\n",
       "      <td>0.000335</td>\n",
       "      <td>0.421</td>\n",
       "      <td>-1.0</td>\n",
       "      <td>0.447</td>\n",
       "      <td>0.01480</td>\n",
       "      <td>D</td>\n",
       "      <td>0.0374</td>\n",
       "      <td>-8.833</td>\n",
       "      <td>Major</td>\n",
       "      <td>0.2020</td>\n",
       "      <td>73.830</td>\n",
       "      <td>4-Apr</td>\n",
       "      <td>0.121</td>\n",
       "    </tr>\n",
       "    <tr>\n",
       "      <th>...</th>\n",
       "      <td>...</td>\n",
       "      <td>...</td>\n",
       "      <td>...</td>\n",
       "      <td>...</td>\n",
       "      <td>...</td>\n",
       "      <td>...</td>\n",
       "      <td>...</td>\n",
       "      <td>...</td>\n",
       "      <td>...</td>\n",
       "      <td>...</td>\n",
       "      <td>...</td>\n",
       "      <td>...</td>\n",
       "      <td>...</td>\n",
       "      <td>...</td>\n",
       "      <td>...</td>\n",
       "    </tr>\n",
       "    <tr>\n",
       "      <th>5094</th>\n",
       "      <td>50532</td>\n",
       "      <td>What We Gonna Do About It</td>\n",
       "      <td>0.108000</td>\n",
       "      <td>0.558</td>\n",
       "      <td>163049.0</td>\n",
       "      <td>0.767</td>\n",
       "      <td>0.00000</td>\n",
       "      <td>E</td>\n",
       "      <td>0.0954</td>\n",
       "      <td>-4.561</td>\n",
       "      <td>Minor</td>\n",
       "      <td>0.0491</td>\n",
       "      <td>158.019</td>\n",
       "      <td>4-Apr</td>\n",
       "      <td>0.715</td>\n",
       "    </tr>\n",
       "    <tr>\n",
       "      <th>5095</th>\n",
       "      <td>26255</td>\n",
       "      <td>Marilyn (feat. Dominique Le Jeune)</td>\n",
       "      <td>0.131000</td>\n",
       "      <td>0.435</td>\n",
       "      <td>196216.0</td>\n",
       "      <td>0.641</td>\n",
       "      <td>0.00000</td>\n",
       "      <td>A#</td>\n",
       "      <td>0.2730</td>\n",
       "      <td>-7.274</td>\n",
       "      <td>Major</td>\n",
       "      <td>0.1040</td>\n",
       "      <td>115.534</td>\n",
       "      <td>3-Apr</td>\n",
       "      <td>0.156</td>\n",
       "    </tr>\n",
       "    <tr>\n",
       "      <th>5096</th>\n",
       "      <td>67924</td>\n",
       "      <td>Bipolar</td>\n",
       "      <td>0.152000</td>\n",
       "      <td>0.756</td>\n",
       "      <td>243373.0</td>\n",
       "      <td>0.787</td>\n",
       "      <td>0.00000</td>\n",
       "      <td>D</td>\n",
       "      <td>0.2050</td>\n",
       "      <td>-7.423</td>\n",
       "      <td>Major</td>\n",
       "      <td>0.2400</td>\n",
       "      <td>123.405</td>\n",
       "      <td>4-Apr</td>\n",
       "      <td>0.459</td>\n",
       "    </tr>\n",
       "    <tr>\n",
       "      <th>5097</th>\n",
       "      <td>79778</td>\n",
       "      <td>Dead - NGHTMRE Remix</td>\n",
       "      <td>0.001450</td>\n",
       "      <td>0.489</td>\n",
       "      <td>185600.0</td>\n",
       "      <td>0.974</td>\n",
       "      <td>0.63800</td>\n",
       "      <td>F#</td>\n",
       "      <td>0.1230</td>\n",
       "      <td>-2.857</td>\n",
       "      <td>Minor</td>\n",
       "      <td>0.0381</td>\n",
       "      <td>150.036</td>\n",
       "      <td>4-Apr</td>\n",
       "      <td>0.665</td>\n",
       "    </tr>\n",
       "    <tr>\n",
       "      <th>5098</th>\n",
       "      <td>47986</td>\n",
       "      <td>A Night In Tunisia - Remastered 1998 / Rudy Va...</td>\n",
       "      <td>0.715000</td>\n",
       "      <td>0.538</td>\n",
       "      <td>256800.0</td>\n",
       "      <td>0.520</td>\n",
       "      <td>0.01750</td>\n",
       "      <td>G</td>\n",
       "      <td>0.0676</td>\n",
       "      <td>-10.127</td>\n",
       "      <td>Minor</td>\n",
       "      <td>0.0408</td>\n",
       "      <td>83.816</td>\n",
       "      <td>4-Apr</td>\n",
       "      <td>0.764</td>\n",
       "    </tr>\n",
       "  </tbody>\n",
       "</table>\n",
       "<p>5099 rows × 15 columns</p>\n",
       "</div>"
      ],
      "text/plain": [
       "      instance_id                                         track_name  \\\n",
       "0           48564                               Low Class Conspiracy   \n",
       "1           72394                                         The Hunter   \n",
       "2           88081                                        Hate Me Now   \n",
       "3           78331                                 Somebody Ain't You   \n",
       "4           72636                                         Sour Mango   \n",
       "...           ...                                                ...   \n",
       "5094        50532                          What We Gonna Do About It   \n",
       "5095        26255                 Marilyn (feat. Dominique Le Jeune)   \n",
       "5096        67924                                            Bipolar   \n",
       "5097        79778                               Dead - NGHTMRE Remix   \n",
       "5098        47986  A Night In Tunisia - Remastered 1998 / Rudy Va...   \n",
       "\n",
       "      acousticness  danceability  duration_ms  energy  instrumentalness key  \\\n",
       "0         0.301000         0.757     146213.0   0.679           0.00000  A#   \n",
       "1         0.538000         0.256     240360.0   0.523           0.00832  G#   \n",
       "2         0.005830         0.678     284000.0   0.770           0.00000   A   \n",
       "3         0.020300         0.592     177354.0   0.749           0.00000   B   \n",
       "4         0.000335         0.421         -1.0   0.447           0.01480   D   \n",
       "...            ...           ...          ...     ...               ...  ..   \n",
       "5094      0.108000         0.558     163049.0   0.767           0.00000   E   \n",
       "5095      0.131000         0.435     196216.0   0.641           0.00000  A#   \n",
       "5096      0.152000         0.756     243373.0   0.787           0.00000   D   \n",
       "5097      0.001450         0.489     185600.0   0.974           0.63800  F#   \n",
       "5098      0.715000         0.538     256800.0   0.520           0.01750   G   \n",
       "\n",
       "      liveness  loudness   mode  speechiness    tempo obtained_date  valence  \n",
       "0       0.3030    -7.136  Minor       0.3560   90.361         4-Apr    0.895  \n",
       "1       0.0849    -5.175  Major       0.0294   78.385         4-Apr    0.318  \n",
       "2       0.1090    -4.399  Minor       0.2220   90.000         4-Apr    0.412  \n",
       "3       0.1220    -4.604  Major       0.0483  160.046         4-Apr    0.614  \n",
       "4       0.0374    -8.833  Major       0.2020   73.830         4-Apr    0.121  \n",
       "...        ...       ...    ...          ...      ...           ...      ...  \n",
       "5094    0.0954    -4.561  Minor       0.0491  158.019         4-Apr    0.715  \n",
       "5095    0.2730    -7.274  Major       0.1040  115.534         3-Apr    0.156  \n",
       "5096    0.2050    -7.423  Major       0.2400  123.405         4-Apr    0.459  \n",
       "5097    0.1230    -2.857  Minor       0.0381  150.036         4-Apr    0.665  \n",
       "5098    0.0676   -10.127  Minor       0.0408   83.816         4-Apr    0.764  \n",
       "\n",
       "[5099 rows x 15 columns]"
      ]
     },
     "execution_count": 4,
     "metadata": {},
     "output_type": "execute_result"
    }
   ],
   "source": [
    "df_test"
   ]
  },
  {
   "cell_type": "code",
   "execution_count": 5,
   "id": "1aaeef2c-54bf-47d3-95a4-df00e8a9c01b",
   "metadata": {},
   "outputs": [
    {
     "name": "stdout",
     "output_type": "stream",
     "text": [
      "<class 'pandas.core.frame.DataFrame'>\n",
      "RangeIndex: 20394 entries, 0 to 20393\n",
      "Data columns (total 16 columns):\n",
      " #   Column            Non-Null Count  Dtype  \n",
      "---  ------            --------------  -----  \n",
      " 0   instance_id       20394 non-null  float64\n",
      " 1   track_name        20394 non-null  object \n",
      " 2   acousticness      20394 non-null  float64\n",
      " 3   danceability      20394 non-null  float64\n",
      " 4   duration_ms       20394 non-null  float64\n",
      " 5   energy            20394 non-null  float64\n",
      " 6   instrumentalness  20394 non-null  float64\n",
      " 7   key               19659 non-null  object \n",
      " 8   liveness          20394 non-null  float64\n",
      " 9   loudness          20394 non-null  float64\n",
      " 10  mode              19888 non-null  object \n",
      " 11  speechiness       20394 non-null  float64\n",
      " 12  tempo             19952 non-null  float64\n",
      " 13  obtained_date     20394 non-null  object \n",
      " 14  valence           20394 non-null  float64\n",
      " 15  music_genre       20394 non-null  object \n",
      "dtypes: float64(11), object(5)\n",
      "memory usage: 2.5+ MB\n"
     ]
    }
   ],
   "source": [
    "df_train.info()"
   ]
  },
  {
   "cell_type": "code",
   "execution_count": 6,
   "id": "bb6cc691-ca31-496d-9f63-d3bc32d40a49",
   "metadata": {},
   "outputs": [
    {
     "name": "stdout",
     "output_type": "stream",
     "text": [
      "<class 'pandas.core.frame.DataFrame'>\n",
      "RangeIndex: 5099 entries, 0 to 5098\n",
      "Data columns (total 15 columns):\n",
      " #   Column            Non-Null Count  Dtype  \n",
      "---  ------            --------------  -----  \n",
      " 0   instance_id       5099 non-null   int64  \n",
      " 1   track_name        5099 non-null   object \n",
      " 2   acousticness      5099 non-null   float64\n",
      " 3   danceability      5099 non-null   float64\n",
      " 4   duration_ms       5099 non-null   float64\n",
      " 5   energy            5099 non-null   float64\n",
      " 6   instrumentalness  5099 non-null   float64\n",
      " 7   key               4941 non-null   object \n",
      " 8   liveness          5099 non-null   float64\n",
      " 9   loudness          5099 non-null   float64\n",
      " 10  mode              4950 non-null   object \n",
      " 11  speechiness       5099 non-null   float64\n",
      " 12  tempo             4978 non-null   float64\n",
      " 13  obtained_date     5099 non-null   object \n",
      " 14  valence           5099 non-null   float64\n",
      "dtypes: float64(10), int64(1), object(4)\n",
      "memory usage: 597.7+ KB\n"
     ]
    }
   ],
   "source": [
    "df_test.info()"
   ]
  },
  {
   "cell_type": "markdown",
   "id": "6dc86809-b370-4592-a2b5-63c220343588",
   "metadata": {},
   "source": [
    "Я считаю, что instance_id , track_name, obtained_date надо выбросить"
   ]
  },
  {
   "cell_type": "code",
   "execution_count": 7,
   "id": "def26d51-0f09-4db9-b162-6f779f0e7201",
   "metadata": {},
   "outputs": [
    {
     "data": {
      "text/html": [
       "<div>\n",
       "<style scoped>\n",
       "    .dataframe tbody tr th:only-of-type {\n",
       "        vertical-align: middle;\n",
       "    }\n",
       "\n",
       "    .dataframe tbody tr th {\n",
       "        vertical-align: top;\n",
       "    }\n",
       "\n",
       "    .dataframe thead th {\n",
       "        text-align: right;\n",
       "    }\n",
       "</style>\n",
       "<table border=\"1\" class=\"dataframe\">\n",
       "  <thead>\n",
       "    <tr style=\"text-align: right;\">\n",
       "      <th></th>\n",
       "      <th>acousticness</th>\n",
       "      <th>danceability</th>\n",
       "      <th>duration_ms</th>\n",
       "      <th>energy</th>\n",
       "      <th>instrumentalness</th>\n",
       "      <th>key</th>\n",
       "      <th>liveness</th>\n",
       "      <th>loudness</th>\n",
       "      <th>mode</th>\n",
       "      <th>speechiness</th>\n",
       "      <th>tempo</th>\n",
       "      <th>valence</th>\n",
       "      <th>music_genre</th>\n",
       "    </tr>\n",
       "  </thead>\n",
       "  <tbody>\n",
       "    <tr>\n",
       "      <th>0</th>\n",
       "      <td>0.48000</td>\n",
       "      <td>0.670</td>\n",
       "      <td>182653.0</td>\n",
       "      <td>0.351</td>\n",
       "      <td>0.017600</td>\n",
       "      <td>D</td>\n",
       "      <td>0.1150</td>\n",
       "      <td>-16.842</td>\n",
       "      <td>Major</td>\n",
       "      <td>0.0463</td>\n",
       "      <td>101.384</td>\n",
       "      <td>0.450</td>\n",
       "      <td>Country</td>\n",
       "    </tr>\n",
       "    <tr>\n",
       "      <th>1</th>\n",
       "      <td>0.24300</td>\n",
       "      <td>0.452</td>\n",
       "      <td>187133.0</td>\n",
       "      <td>0.670</td>\n",
       "      <td>0.000051</td>\n",
       "      <td>A</td>\n",
       "      <td>0.1080</td>\n",
       "      <td>-8.392</td>\n",
       "      <td>Minor</td>\n",
       "      <td>0.0352</td>\n",
       "      <td>113.071</td>\n",
       "      <td>0.539</td>\n",
       "      <td>Rock</td>\n",
       "    </tr>\n",
       "    <tr>\n",
       "      <th>2</th>\n",
       "      <td>0.22800</td>\n",
       "      <td>0.454</td>\n",
       "      <td>173448.0</td>\n",
       "      <td>0.804</td>\n",
       "      <td>0.000000</td>\n",
       "      <td>E</td>\n",
       "      <td>0.1810</td>\n",
       "      <td>-5.225</td>\n",
       "      <td>Minor</td>\n",
       "      <td>0.3710</td>\n",
       "      <td>80.980</td>\n",
       "      <td>0.344</td>\n",
       "      <td>Alternative</td>\n",
       "    </tr>\n",
       "    <tr>\n",
       "      <th>3</th>\n",
       "      <td>0.05580</td>\n",
       "      <td>0.847</td>\n",
       "      <td>255987.0</td>\n",
       "      <td>0.873</td>\n",
       "      <td>0.000003</td>\n",
       "      <td>G#</td>\n",
       "      <td>0.3250</td>\n",
       "      <td>-4.805</td>\n",
       "      <td>Minor</td>\n",
       "      <td>0.0804</td>\n",
       "      <td>116.007</td>\n",
       "      <td>0.966</td>\n",
       "      <td>Hip-Hop</td>\n",
       "    </tr>\n",
       "    <tr>\n",
       "      <th>4</th>\n",
       "      <td>0.22700</td>\n",
       "      <td>0.742</td>\n",
       "      <td>195333.0</td>\n",
       "      <td>0.575</td>\n",
       "      <td>0.000002</td>\n",
       "      <td>C</td>\n",
       "      <td>0.1760</td>\n",
       "      <td>-5.550</td>\n",
       "      <td>Major</td>\n",
       "      <td>0.0487</td>\n",
       "      <td>76.494</td>\n",
       "      <td>0.583</td>\n",
       "      <td>Alternative</td>\n",
       "    </tr>\n",
       "    <tr>\n",
       "      <th>...</th>\n",
       "      <td>...</td>\n",
       "      <td>...</td>\n",
       "      <td>...</td>\n",
       "      <td>...</td>\n",
       "      <td>...</td>\n",
       "      <td>...</td>\n",
       "      <td>...</td>\n",
       "      <td>...</td>\n",
       "      <td>...</td>\n",
       "      <td>...</td>\n",
       "      <td>...</td>\n",
       "      <td>...</td>\n",
       "      <td>...</td>\n",
       "    </tr>\n",
       "    <tr>\n",
       "      <th>20389</th>\n",
       "      <td>0.71900</td>\n",
       "      <td>0.725</td>\n",
       "      <td>-1.0</td>\n",
       "      <td>0.483</td>\n",
       "      <td>0.000000</td>\n",
       "      <td>NaN</td>\n",
       "      <td>0.0797</td>\n",
       "      <td>-13.314</td>\n",
       "      <td>Minor</td>\n",
       "      <td>0.0438</td>\n",
       "      <td>87.413</td>\n",
       "      <td>0.942</td>\n",
       "      <td>Jazz</td>\n",
       "    </tr>\n",
       "    <tr>\n",
       "      <th>20390</th>\n",
       "      <td>0.19000</td>\n",
       "      <td>0.482</td>\n",
       "      <td>198933.0</td>\n",
       "      <td>0.362</td>\n",
       "      <td>0.005620</td>\n",
       "      <td>F#</td>\n",
       "      <td>0.0913</td>\n",
       "      <td>-10.358</td>\n",
       "      <td>Minor</td>\n",
       "      <td>0.0299</td>\n",
       "      <td>76.879</td>\n",
       "      <td>0.174</td>\n",
       "      <td>Rock</td>\n",
       "    </tr>\n",
       "    <tr>\n",
       "      <th>20391</th>\n",
       "      <td>0.00061</td>\n",
       "      <td>0.663</td>\n",
       "      <td>220947.0</td>\n",
       "      <td>0.886</td>\n",
       "      <td>0.000025</td>\n",
       "      <td>D</td>\n",
       "      <td>0.2840</td>\n",
       "      <td>-4.149</td>\n",
       "      <td>Major</td>\n",
       "      <td>0.0358</td>\n",
       "      <td>146.803</td>\n",
       "      <td>0.942</td>\n",
       "      <td>Alternative</td>\n",
       "    </tr>\n",
       "    <tr>\n",
       "      <th>20392</th>\n",
       "      <td>0.00310</td>\n",
       "      <td>0.914</td>\n",
       "      <td>162214.0</td>\n",
       "      <td>0.515</td>\n",
       "      <td>0.000000</td>\n",
       "      <td>C#</td>\n",
       "      <td>0.1050</td>\n",
       "      <td>-9.934</td>\n",
       "      <td>Major</td>\n",
       "      <td>0.3560</td>\n",
       "      <td>150.016</td>\n",
       "      <td>0.215</td>\n",
       "      <td>Rap</td>\n",
       "    </tr>\n",
       "    <tr>\n",
       "      <th>20393</th>\n",
       "      <td>0.05350</td>\n",
       "      <td>0.717</td>\n",
       "      <td>271885.0</td>\n",
       "      <td>0.983</td>\n",
       "      <td>0.491000</td>\n",
       "      <td>D#</td>\n",
       "      <td>0.1080</td>\n",
       "      <td>-1.615</td>\n",
       "      <td>Minor</td>\n",
       "      <td>0.0942</td>\n",
       "      <td>128.004</td>\n",
       "      <td>0.077</td>\n",
       "      <td>Electronic</td>\n",
       "    </tr>\n",
       "  </tbody>\n",
       "</table>\n",
       "<p>20394 rows × 13 columns</p>\n",
       "</div>"
      ],
      "text/plain": [
       "       acousticness  danceability  duration_ms  energy  instrumentalness  key  \\\n",
       "0           0.48000         0.670     182653.0   0.351          0.017600    D   \n",
       "1           0.24300         0.452     187133.0   0.670          0.000051    A   \n",
       "2           0.22800         0.454     173448.0   0.804          0.000000    E   \n",
       "3           0.05580         0.847     255987.0   0.873          0.000003   G#   \n",
       "4           0.22700         0.742     195333.0   0.575          0.000002    C   \n",
       "...             ...           ...          ...     ...               ...  ...   \n",
       "20389       0.71900         0.725         -1.0   0.483          0.000000  NaN   \n",
       "20390       0.19000         0.482     198933.0   0.362          0.005620   F#   \n",
       "20391       0.00061         0.663     220947.0   0.886          0.000025    D   \n",
       "20392       0.00310         0.914     162214.0   0.515          0.000000   C#   \n",
       "20393       0.05350         0.717     271885.0   0.983          0.491000   D#   \n",
       "\n",
       "       liveness  loudness   mode  speechiness    tempo  valence  music_genre  \n",
       "0        0.1150   -16.842  Major       0.0463  101.384    0.450      Country  \n",
       "1        0.1080    -8.392  Minor       0.0352  113.071    0.539         Rock  \n",
       "2        0.1810    -5.225  Minor       0.3710   80.980    0.344  Alternative  \n",
       "3        0.3250    -4.805  Minor       0.0804  116.007    0.966      Hip-Hop  \n",
       "4        0.1760    -5.550  Major       0.0487   76.494    0.583  Alternative  \n",
       "...         ...       ...    ...          ...      ...      ...          ...  \n",
       "20389    0.0797   -13.314  Minor       0.0438   87.413    0.942         Jazz  \n",
       "20390    0.0913   -10.358  Minor       0.0299   76.879    0.174         Rock  \n",
       "20391    0.2840    -4.149  Major       0.0358  146.803    0.942  Alternative  \n",
       "20392    0.1050    -9.934  Major       0.3560  150.016    0.215          Rap  \n",
       "20393    0.1080    -1.615  Minor       0.0942  128.004    0.077   Electronic  \n",
       "\n",
       "[20394 rows x 13 columns]"
      ]
     },
     "execution_count": 7,
     "metadata": {},
     "output_type": "execute_result"
    }
   ],
   "source": [
    "df_train = df_train.drop(['instance_id', 'track_name', 'obtained_date'], axis =1)\n",
    "df_train"
   ]
  },
  {
   "cell_type": "code",
   "execution_count": 8,
   "id": "a015f891-b561-432b-830b-2c2367d488f3",
   "metadata": {},
   "outputs": [],
   "source": [
    "# df_test = df_test.drop(['instance_id', 'track_name', 'obtained_date'], axis =1)\n",
    "# df_test"
   ]
  },
  {
   "cell_type": "markdown",
   "id": "e0f515c0-5669-42ea-945d-623d3a65fddb",
   "metadata": {},
   "source": [
    "Тут решил глянуть сколько будет классов"
   ]
  },
  {
   "cell_type": "code",
   "execution_count": 9,
   "id": "30976722-85c0-41b2-b435-7dc6b61dca28",
   "metadata": {},
   "outputs": [
    {
     "data": {
      "text/plain": [
       "music_genre\n",
       "Blues          2858\n",
       "Alternative    2601\n",
       "Electronic     2564\n",
       "Rap            2428\n",
       "Rock           2165\n",
       "Country        2120\n",
       "Anime          1901\n",
       "Classical      1373\n",
       "Jazz           1239\n",
       "Hip-Hop        1145\n",
       "Name: count, dtype: int64"
      ]
     },
     "execution_count": 9,
     "metadata": {},
     "output_type": "execute_result"
    }
   ],
   "source": [
    "df_train['music_genre'].value_counts()"
   ]
  },
  {
   "cell_type": "code",
   "execution_count": 10,
   "id": "89fd99f0-4c74-4988-bbc8-d811dd7f16aa",
   "metadata": {},
   "outputs": [
    {
     "data": {
      "image/png": "[encoded data removed]",
      "text/plain": [
       "<Figure size 640x480 with 1 Axes>"
      ]
     },
     "metadata": {},
     "output_type": "display_data"
    }
   ],
   "source": [
    "df_train['music_genre'].value_counts().plot(kind = 'bar')\n",
    "plt.xlabel('Количество значений для классов')\n",
    "# plt.ylabel('ylabel')\n",
    "plt.savefig('Количество значений для классов.png')"
   ]
  },
  {
   "cell_type": "markdown",
   "id": "f10b6c50-0316-406c-aa62-4899c6fbebad",
   "metadata": {},
   "source": [
    "Смотрю распределение некоторых переменных, которые мне интересны"
   ]
  },
  {
   "cell_type": "markdown",
   "id": "5c6bb440-7c92-4e11-b5ac-78c2edaa073c",
   "metadata": {},
   "source": [
    "Ниже видим, что модальность преобладает в основном мажорная с приблизительным соотношением 2:1"
   ]
  },
  {
   "cell_type": "code",
   "execution_count": 11,
   "id": "6fb9f713-80f3-40f9-a6b9-bcd3c38a6bc1",
   "metadata": {},
   "outputs": [
    {
     "data": {
      "text/plain": [
       "mode\n",
       "Major    12828\n",
       "Minor     7060\n",
       "Name: count, dtype: int64"
      ]
     },
     "execution_count": 11,
     "metadata": {},
     "output_type": "execute_result"
    }
   ],
   "source": [
    "df_train['mode'].value_counts()"
   ]
  },
  {
   "cell_type": "code",
   "execution_count": 12,
   "id": "0ce5cde5-e4f4-4a5f-a683-8da77cadf60b",
   "metadata": {},
   "outputs": [
    {
     "data": {
      "image/png": "[encoded data removed]",
      "text/plain": [
       "<Figure size 640x480 with 1 Axes>"
      ]
     },
     "metadata": {},
     "output_type": "display_data"
    }
   ],
   "source": [
    "df_train['mode'].value_counts().plot(kind = 'bar')\n",
    "plt.xlabel('Количество мажорных и минорный треков')\n",
    "# plt.ylabel('ylabel')\n",
    "plt.savefig('Гистограмма мажорных и минорный треков.png')"
   ]
  },
  {
   "cell_type": "code",
   "execution_count": 13,
   "id": "a18dbedf-8b12-43ee-b736-a82b6950b7a7",
   "metadata": {},
   "outputs": [],
   "source": [
    "# df_test['mode'].value_counts()"
   ]
  },
  {
   "cell_type": "markdown",
   "id": "7bb27b2d-176f-4cfd-a63c-477ed8205e05",
   "metadata": {},
   "source": [
    "Смотрю распределение тональностей. Относительные доли примерно совпадают"
   ]
  },
  {
   "cell_type": "code",
   "execution_count": 14,
   "id": "ca556be2-9bbd-46e0-b8cf-cbd5a136266d",
   "metadata": {},
   "outputs": [
    {
     "data": {
      "text/plain": [
       "key\n",
       "D#    0.030826\n",
       "F#    0.061346\n",
       "A#    0.062262\n",
       "G#    0.064500\n",
       "E     0.077115\n",
       "B     0.077420\n",
       "F     0.082202\n",
       "A     0.102396\n",
       "D     0.107330\n",
       "C#    0.108093\n",
       "C     0.109314\n",
       "G     0.117198\n",
       "Name: proportion, dtype: float64"
      ]
     },
     "execution_count": 14,
     "metadata": {},
     "output_type": "execute_result"
    }
   ],
   "source": [
    "df_train['key'].value_counts(ascending=True, normalize = True)"
   ]
  },
  {
   "cell_type": "code",
   "execution_count": 15,
   "id": "80d85c1d-f133-4ac3-b58f-f3470c02539e",
   "metadata": {},
   "outputs": [
    {
     "data": {
      "image/png": "[encoded data removed]",
      "text/plain": [
       "<Figure size 640x480 with 1 Axes>"
      ]
     },
     "metadata": {},
     "output_type": "display_data"
    }
   ],
   "source": [
    "df_train['key'].value_counts(ascending=True, normalize = True).plot(kind = 'bar')\n",
    "plt.xlabel('Доля треков по тональностям')\n",
    "# plt.ylabel('ylabel')\n",
    "plt.savefig('Доля треков по тональностям.png')"
   ]
  },
  {
   "cell_type": "code",
   "execution_count": 16,
   "id": "5ba60118-441a-4acc-b2ba-aa69425eb14c",
   "metadata": {},
   "outputs": [],
   "source": [
    "# df_test['key'].value_counts(ascending=True, normalize = True)"
   ]
  },
  {
   "cell_type": "markdown",
   "id": "51af22ed-67f6-45a3-902d-76a296a1d213",
   "metadata": {},
   "source": [
    "Смотрим речевой характер"
   ]
  },
  {
   "cell_type": "code",
   "execution_count": 17,
   "id": "cae4ed09-5356-48d6-bc29-a0400947c03f",
   "metadata": {},
   "outputs": [
    {
     "data": {
      "image/png": "[encoded data removed]",
      "text/plain": [
       "<Figure size 640x480 with 1 Axes>"
      ]
     },
     "metadata": {},
     "output_type": "display_data"
    }
   ],
   "source": [
    "df_train['speechiness'].hist(bins = 20)\n",
    "# plt.yscale('log')\n",
    "plt.xlabel('Гистограмма параметра speechiness')\n",
    "# plt.ylabel('ylabel')\n",
    "plt.savefig('Гистограмма параметра speechiness.png')"
   ]
  },
  {
   "cell_type": "code",
   "execution_count": 18,
   "id": "2caad5b9-bbeb-4269-8876-9ac32da6341b",
   "metadata": {},
   "outputs": [],
   "source": [
    "# df_train['speechiness'].value_counts(ascending=True)"
   ]
  },
  {
   "cell_type": "code",
   "execution_count": 19,
   "id": "14921f46-25a9-498e-b5d7-75aa0020c020",
   "metadata": {},
   "outputs": [],
   "source": [
    "# df_test['speechiness'].hist(bins = 20)\n",
    "# plt.yscale('log')"
   ]
  },
  {
   "cell_type": "markdown",
   "id": "cfd31a93-fc94-42cb-8f60-c652f29e9ad9",
   "metadata": {},
   "source": [
    "По описанию значения выше 0,66 характеризуют треки, которые, вероятно, полностью состоят из разговорной речи значения от 0,33 до 0,66 характеризуют треки, которые могут содержать как музыку, так и речь, как в виде фрагментов, так и в виде слоев, включая такие случаи, как рэп-музыка. Значения ниже 0,33, скорее всего, представляют музыку и другие неречевые треки.\n",
    "\n",
    "Посмотрим на количество значений в диапазонах:  \n",
    "  0 : 0.33  \n",
    "  0.33 : 0.66  \n",
    "  0.66 : 1.  "
   ]
  },
  {
   "cell_type": "code",
   "execution_count": 20,
   "id": "d30b52ca-9e0a-4002-a45c-7669deb1e8fa",
   "metadata": {},
   "outputs": [
    {
     "data": {
      "text/plain": [
       "19543"
      ]
     },
     "execution_count": 20,
     "metadata": {},
     "output_type": "execute_result"
    }
   ],
   "source": [
    "df_train[df_train['speechiness'] <= 0.33]['speechiness'].count()"
   ]
  },
  {
   "cell_type": "code",
   "execution_count": 21,
   "id": "7f3282a0-d2b2-4106-8e7e-b2b9f163f100",
   "metadata": {},
   "outputs": [],
   "source": [
    "# df_train[df_train['speechiness'] <= 0.66]['speechiness'].count() - df_train[df_train['speechiness'] <= 0.33]['speechiness'].count()"
   ]
  },
  {
   "cell_type": "code",
   "execution_count": 22,
   "id": "7bfc76ee-539e-4332-b345-3c12f96fb4dc",
   "metadata": {},
   "outputs": [
    {
     "data": {
      "text/plain": [
       "834"
      ]
     },
     "execution_count": 22,
     "metadata": {},
     "output_type": "execute_result"
    }
   ],
   "source": [
    "df_train.query(\"`speechiness` >= 0.33 and `speechiness` <= 0.66\")['speechiness'].count()"
   ]
  },
  {
   "cell_type": "code",
   "execution_count": 23,
   "id": "5a598c6e-4b8e-4d14-93b9-b0f330e17f0e",
   "metadata": {},
   "outputs": [
    {
     "data": {
      "text/plain": [
       "25"
      ]
     },
     "execution_count": 23,
     "metadata": {},
     "output_type": "execute_result"
    }
   ],
   "source": [
    "df_train[df_train['speechiness'] >= 0.66]['speechiness'].count()"
   ]
  },
  {
   "cell_type": "markdown",
   "id": "9d26b110-4209-4dc1-91c8-1105d5d02f81",
   "metadata": {},
   "source": [
    "Тестовый датасет смотреть не стал, на гистограмме видно, что относительные значения будут примерно такими же. Большинство треков - не речевые. Все что больльше 0.66 можно вообще отнести к выбросам и откинуть. Можно попробовать добавить новый признак на основе колонки speechiness, поделив на 3 или 2 класса."
   ]
  },
  {
   "cell_type": "code",
   "execution_count": 24,
   "id": "7dc43d0c-4ec9-4870-b6d3-52a8af5b1fc5",
   "metadata": {},
   "outputs": [
    {
     "data": {
      "image/png": "[encoded data removed]",
      "text/plain": [
       "<Figure size 640x480 with 1 Axes>"
      ]
     },
     "metadata": {},
     "output_type": "display_data"
    }
   ],
   "source": [
    "df_train['valence'].hist()\n",
    "plt.xlabel('Гистограмма параметра valence')\n",
    "# plt.ylabel('ylabel')\n",
    "plt.savefig('Гистограмма параметра valence.png')"
   ]
  },
  {
   "cell_type": "code",
   "execution_count": 25,
   "id": "496dfd9b-777b-4f8a-af17-ea21a1ab7ded",
   "metadata": {},
   "outputs": [
    {
     "data": {
      "image/png": "[encoded data removed]",
      "text/plain": [
       "<Figure size 640x480 with 1 Axes>"
      ]
     },
     "metadata": {},
     "output_type": "display_data"
    }
   ],
   "source": [
    "df_train['tempo'].hist()\n",
    "plt.xlabel('Гистограмма параметра tempo')\n",
    "# plt.ylabel('ylabel')\n",
    "plt.savefig('Гистограмма параметра tempo.png')"
   ]
  },
  {
   "cell_type": "markdown",
   "id": "51d1a8b3-6a6d-4214-b7ec-dac728a2d367",
   "metadata": {},
   "source": [
    "Здесь видим подобие нормальных распределений, я бы трогать не стал."
   ]
  },
  {
   "cell_type": "code",
   "execution_count": 26,
   "id": "c02fea2b-30b1-46d3-88e4-77e0ed2c0cc4",
   "metadata": {},
   "outputs": [
    {
     "name": "stdout",
     "output_type": "stream",
     "text": [
      "interval columns not set, guessing: ['acousticness', 'danceability', 'duration_ms', 'energy', 'instrumentalness', 'liveness', 'loudness', 'speechiness', 'tempo', 'valence']\n"
     ]
    },
    {
     "data": {
      "image/png": "[encoded data removed]",
      "text/plain": [
       "<Figure size 640x480 with 2 Axes>"
      ]
     },
     "metadata": {},
     "output_type": "display_data"
    }
   ],
   "source": [
    "sb.heatmap(df_train.phik_matrix())\n",
    "plt.xlabel('Тепловая карта корреляций переменных датасета')\n",
    "# plt.ylabel('ylabel')\n",
    "plt.savefig('Тепловая карта корреляций переменных датасета.png')"
   ]
  },
  {
   "cell_type": "code",
   "execution_count": 27,
   "id": "dae23296-15c1-4fbc-82ae-06868912ae52",
   "metadata": {},
   "outputs": [],
   "source": [
    "# sb.pairplot(df_train)"
   ]
  },
  {
   "cell_type": "code",
   "execution_count": 28,
   "id": "f6f9c854-a5d9-4d94-be0f-1f7bec925e0b",
   "metadata": {},
   "outputs": [],
   "source": [
    "# sb.relplot(\n",
    "#     x=df_train['danceability'],\n",
    "#     y=df_train['acousticness'], \n",
    "#     # data=cars,\n",
    "#     # palette='bright',\n",
    "#     col=df_train['music_genre'])"
   ]
  },
  {
   "cell_type": "code",
   "execution_count": 29,
   "id": "018206ec-c41f-4824-9578-3b9af1637c1c",
   "metadata": {},
   "outputs": [],
   "source": [
    "# sb.relplot(\n",
    "#     x=df_train['music_genre'], \n",
    "#     y=df_train['acousticness'],\n",
    "#     height=4, aspect=2)"
   ]
  },
  {
   "cell_type": "code",
   "execution_count": 30,
   "id": "dc698e8a-d3a9-4f41-a711-599fa5abd063",
   "metadata": {},
   "outputs": [],
   "source": [
    "# sb.relplot(\n",
    "#     x=df_train['music_genre'], \n",
    "#     y=df_train['danceability'],\n",
    "#     height=4, aspect=2)"
   ]
  },
  {
   "cell_type": "code",
   "execution_count": 31,
   "id": "0fa8e32e-ce1a-446f-bbb5-48c986bcc01c",
   "metadata": {},
   "outputs": [],
   "source": [
    "# sb.relplot(\n",
    "#     x=df_train['music_genre'], \n",
    "#     y=df_train['duration_ms'],\n",
    "#     height=4, aspect=2)"
   ]
  },
  {
   "cell_type": "code",
   "execution_count": 32,
   "id": "9051214f-8ef6-4f99-89cd-35e8b8194609",
   "metadata": {},
   "outputs": [],
   "source": [
    "# sb.relplot(\n",
    "#     x=df_train['music_genre'], \n",
    "#     y=df_train['energy'],\n",
    "#     height=4, aspect=2)"
   ]
  },
  {
   "cell_type": "code",
   "execution_count": 33,
   "id": "acac5ee6-3956-49ea-8fa7-57c2031a3d61",
   "metadata": {},
   "outputs": [],
   "source": [
    "# sb.relplot(\n",
    "#     x=df_train['music_genre'], \n",
    "#     y=df_train['instrumentalness'],\n",
    "#     height=4, aspect=2)"
   ]
  },
  {
   "cell_type": "code",
   "execution_count": 34,
   "id": "cca0fa19-6f90-4c13-a10a-aa79b81e8c75",
   "metadata": {},
   "outputs": [],
   "source": [
    "# sb.relplot(\n",
    "#     x=df_train['music_genre'], \n",
    "#     y=df_train['key'],\n",
    "#     height=4, aspect=2)"
   ]
  },
  {
   "cell_type": "code",
   "execution_count": 35,
   "id": "ba1fd122-f42d-4c86-95fd-fa4f66453eab",
   "metadata": {},
   "outputs": [],
   "source": [
    "# sb.relplot(\n",
    "#     x=df_train['music_genre'], \n",
    "#     y=df_train['liveness'],\n",
    "#     height=4, aspect=2)"
   ]
  },
  {
   "cell_type": "code",
   "execution_count": 36,
   "id": "709a5391-676e-4a92-94c0-6f93e08440db",
   "metadata": {},
   "outputs": [],
   "source": [
    "# corr = df_train.drop(['key', 'mode', 'music_genre'],axis = 1).corr()\n",
    "# plt.figure(figsize = (10,10))\n",
    "\n",
    "# sb.heatmap(corr, cmap=\"Blues\", annot=True,  fmt=\".1f\")\n",
    "# plt.title('Тепловая карта корреляции переменных датасета', fontsize = 20)"
   ]
  },
  {
   "cell_type": "code",
   "execution_count": 37,
   "id": "dbd6061c-e489-47c8-bbd0-2bb0cd1d7066",
   "metadata": {},
   "outputs": [
    {
     "data": {
      "text/plain": [
       "7"
      ]
     },
     "execution_count": 37,
     "metadata": {},
     "output_type": "execute_result"
    }
   ],
   "source": [
    "df_train.duplicated().sum()"
   ]
  },
  {
   "cell_type": "code",
   "execution_count": 38,
   "id": "2f546e80-da21-4007-90bb-4eafbb932ef0",
   "metadata": {},
   "outputs": [],
   "source": [
    "df_train = df_train.drop_duplicates()"
   ]
  },
  {
   "cell_type": "markdown",
   "id": "b5c59783-af62-48d4-b824-63bb6028897b",
   "metadata": {},
   "source": [
    "## Предобработка"
   ]
  },
  {
   "cell_type": "code",
   "execution_count": 39,
   "id": "e69fb997-70b6-4b10-b31b-92a84cbce506",
   "metadata": {},
   "outputs": [
    {
     "name": "stderr",
     "output_type": "stream",
     "text": [
      "C:\\Users\\Parkhom\\AppData\\Local\\Temp\\ipykernel_8476\\3219416701.py:7: SettingWithCopyWarning: \n",
      "A value is trying to be set on a copy of a slice from a DataFrame.\n",
      "Try using .loc[row_indexer,col_indexer] = value instead\n",
      "\n",
      "See the caveats in the documentation: https://pandas.pydata.org/pandas-docs/stable/user_guide/indexing.html#returning-a-view-versus-a-copy\n",
      "  df_train[numeric_list] = scaler.fit_transform(df_train[numeric_list])\n"
     ]
    }
   ],
   "source": [
    "scaler = StandardScaler()\n",
    "\n",
    "numerics = ['int16', 'int32', 'int64', 'float16', 'float32', 'float64']\n",
    "\n",
    "numeric_list = df_train.select_dtypes(include=numerics).columns.tolist()\n",
    "\n",
    "df_train[numeric_list] = scaler.fit_transform(df_train[numeric_list])"
   ]
  },
  {
   "cell_type": "code",
   "execution_count": 40,
   "id": "29064f55-44e2-44bb-a136-9b9826924ac5",
   "metadata": {},
   "outputs": [
    {
     "name": "stdout",
     "output_type": "stream",
     "text": [
      "<class 'pandas.core.frame.DataFrame'>\n",
      "Index: 20387 entries, 0 to 20393\n",
      "Data columns (total 13 columns):\n",
      " #   Column            Non-Null Count  Dtype  \n",
      "---  ------            --------------  -----  \n",
      " 0   acousticness      20387 non-null  float64\n",
      " 1   danceability      20387 non-null  float64\n",
      " 2   duration_ms       20387 non-null  float64\n",
      " 3   energy            20387 non-null  float64\n",
      " 4   instrumentalness  20387 non-null  float64\n",
      " 5   key               19653 non-null  object \n",
      " 6   liveness          20387 non-null  float64\n",
      " 7   loudness          20387 non-null  float64\n",
      " 8   mode              19881 non-null  object \n",
      " 9   speechiness       20387 non-null  float64\n",
      " 10  tempo             19945 non-null  float64\n",
      " 11  valence           20387 non-null  float64\n",
      " 12  music_genre       20387 non-null  object \n",
      "dtypes: float64(10), object(3)\n",
      "memory usage: 2.2+ MB\n"
     ]
    }
   ],
   "source": [
    "df_train.info()"
   ]
  },
  {
   "cell_type": "code",
   "execution_count": 41,
   "id": "16536515-64e5-4b84-83dc-63c44a7eaa5b",
   "metadata": {},
   "outputs": [
    {
     "name": "stderr",
     "output_type": "stream",
     "text": [
      "C:\\Users\\Parkhom\\anaconda3\\envs\\new\\Lib\\site-packages\\sklearn\\preprocessing\\_encoders.py:972: FutureWarning: `sparse` was renamed to `sparse_output` in version 1.2 and will be removed in 1.4. `sparse_output` is ignored unless you leave `sparse` to its default value.\n",
      "  warnings.warn(\n"
     ]
    },
    {
     "data": {
      "text/html": [
       "<style>#sk-container-id-1 {color: black;}#sk-container-id-1 pre{padding: 0;}#sk-container-id-1 div.sk-toggleable {background-color: white;}#sk-container-id-1 label.sk-toggleable__label {cursor: pointer;display: block;width: 100%;margin-bottom: 0;padding: 0.3em;box-sizing: border-box;text-align: center;}#sk-container-id-1 label.sk-toggleable__label-arrow:before {content: \"▸\";float: left;margin-right: 0.25em;color: #696969;}#sk-container-id-1 label.sk-toggleable__label-arrow:hover:before {color: black;}#sk-container-id-1 div.sk-estimator:hover label.sk-toggleable__label-arrow:before {color: black;}#sk-container-id-1 div.sk-toggleable__content {max-height: 0;max-width: 0;overflow: hidden;text-align: left;background-color: #f0f8ff;}#sk-container-id-1 div.sk-toggleable__content pre {margin: 0.2em;color: black;border-radius: 0.25em;background-color: #f0f8ff;}#sk-container-id-1 input.sk-toggleable__control:checked~div.sk-toggleable__content {max-height: 200px;max-width: 100%;overflow: auto;}#sk-container-id-1 input.sk-toggleable__control:checked~label.sk-toggleable__label-arrow:before {content: \"▾\";}#sk-container-id-1 div.sk-estimator input.sk-toggleable__control:checked~label.sk-toggleable__label {background-color: #d4ebff;}#sk-container-id-1 div.sk-label input.sk-toggleable__control:checked~label.sk-toggleable__label {background-color: #d4ebff;}#sk-container-id-1 input.sk-hidden--visually {border: 0;clip: rect(1px 1px 1px 1px);clip: rect(1px, 1px, 1px, 1px);height: 1px;margin: -1px;overflow: hidden;padding: 0;position: absolute;width: 1px;}#sk-container-id-1 div.sk-estimator {font-family: monospace;background-color: #f0f8ff;border: 1px dotted black;border-radius: 0.25em;box-sizing: border-box;margin-bottom: 0.5em;}#sk-container-id-1 div.sk-estimator:hover {background-color: #d4ebff;}#sk-container-id-1 div.sk-parallel-item::after {content: \"\";width: 100%;border-bottom: 1px solid gray;flex-grow: 1;}#sk-container-id-1 div.sk-label:hover label.sk-toggleable__label {background-color: #d4ebff;}#sk-container-id-1 div.sk-serial::before {content: \"\";position: absolute;border-left: 1px solid gray;box-sizing: border-box;top: 0;bottom: 0;left: 50%;z-index: 0;}#sk-container-id-1 div.sk-serial {display: flex;flex-direction: column;align-items: center;background-color: white;padding-right: 0.2em;padding-left: 0.2em;position: relative;}#sk-container-id-1 div.sk-item {position: relative;z-index: 1;}#sk-container-id-1 div.sk-parallel {display: flex;align-items: stretch;justify-content: center;background-color: white;position: relative;}#sk-container-id-1 div.sk-item::before, #sk-container-id-1 div.sk-parallel-item::before {content: \"\";position: absolute;border-left: 1px solid gray;box-sizing: border-box;top: 0;bottom: 0;left: 50%;z-index: -1;}#sk-container-id-1 div.sk-parallel-item {display: flex;flex-direction: column;z-index: 1;position: relative;background-color: white;}#sk-container-id-1 div.sk-parallel-item:first-child::after {align-self: flex-end;width: 50%;}#sk-container-id-1 div.sk-parallel-item:last-child::after {align-self: flex-start;width: 50%;}#sk-container-id-1 div.sk-parallel-item:only-child::after {width: 0;}#sk-container-id-1 div.sk-dashed-wrapped {border: 1px dashed gray;margin: 0 0.4em 0.5em 0.4em;box-sizing: border-box;padding-bottom: 0.4em;background-color: white;}#sk-container-id-1 div.sk-label label {font-family: monospace;font-weight: bold;display: inline-block;line-height: 1.2em;}#sk-container-id-1 div.sk-label-container {text-align: center;}#sk-container-id-1 div.sk-container {/* jupyter's `normalize.less` sets `[hidden] { display: none; }` but bootstrap.min.css set `[hidden] { display: none !important; }` so we also need the `!important` here to be able to override the default hidden behavior on the sphinx rendered scikit-learn.org. See: https://github.com/scikit-learn/scikit-learn/issues/21755 */display: inline-block !important;position: relative;}#sk-container-id-1 div.sk-text-repr-fallback {display: none;}</style><div id=\"sk-container-id-1\" class=\"sk-top-container\"><div class=\"sk-text-repr-fallback\"><pre>OneHotEncoder(drop=&#x27;first&#x27;, sparse=False, sparse_output=False)</pre><b>In a Jupyter environment, please rerun this cell to show the HTML representation or trust the notebook. <br />On GitHub, the HTML representation is unable to render, please try loading this page with nbviewer.org.</b></div><div class=\"sk-container\" hidden><div class=\"sk-item\"><div class=\"sk-estimator sk-toggleable\"><input class=\"sk-toggleable__control sk-hidden--visually\" id=\"sk-estimator-id-1\" type=\"checkbox\" checked><label for=\"sk-estimator-id-1\" class=\"sk-toggleable__label sk-toggleable__label-arrow\">OneHotEncoder</label><div class=\"sk-toggleable__content\"><pre>OneHotEncoder(drop=&#x27;first&#x27;, sparse=False, sparse_output=False)</pre></div></div></div></div></div>"
      ],
      "text/plain": [
       "OneHotEncoder(drop='first', sparse=False, sparse_output=False)"
      ]
     },
     "execution_count": 41,
     "metadata": {},
     "output_type": "execute_result"
    }
   ],
   "source": [
    "object_list = ['key', 'mode']\n",
    "\n",
    "encoder_ohe = OneHotEncoder(drop='first', handle_unknown='error', sparse=False)\n",
    "encoder_ohe.fit(df_train[object_list])"
   ]
  },
  {
   "cell_type": "code",
   "execution_count": 42,
   "id": "70c18b72-0295-475f-b07d-fa9a1d252764",
   "metadata": {},
   "outputs": [],
   "source": [
    "# df_train['key'].value_counts()"
   ]
  },
  {
   "cell_type": "code",
   "execution_count": 43,
   "id": "be67b470-f503-412e-970a-e626f7c44bb2",
   "metadata": {},
   "outputs": [
    {
     "name": "stderr",
     "output_type": "stream",
     "text": [
      "C:\\Users\\Parkhom\\AppData\\Local\\Temp\\ipykernel_8476\\1791781703.py:1: SettingWithCopyWarning: \n",
      "A value is trying to be set on a copy of a slice from a DataFrame.\n",
      "Try using .loc[row_indexer,col_indexer] = value instead\n",
      "\n",
      "See the caveats in the documentation: https://pandas.pydata.org/pandas-docs/stable/user_guide/indexing.html#returning-a-view-versus-a-copy\n",
      "  df_train[encoder_ohe.get_feature_names_out()] = \\\n",
      "C:\\Users\\Parkhom\\AppData\\Local\\Temp\\ipykernel_8476\\1791781703.py:1: SettingWithCopyWarning: \n",
      "A value is trying to be set on a copy of a slice from a DataFrame.\n",
      "Try using .loc[row_indexer,col_indexer] = value instead\n",
      "\n",
      "See the caveats in the documentation: https://pandas.pydata.org/pandas-docs/stable/user_guide/indexing.html#returning-a-view-versus-a-copy\n",
      "  df_train[encoder_ohe.get_feature_names_out()] = \\\n",
      "C:\\Users\\Parkhom\\AppData\\Local\\Temp\\ipykernel_8476\\1791781703.py:1: SettingWithCopyWarning: \n",
      "A value is trying to be set on a copy of a slice from a DataFrame.\n",
      "Try using .loc[row_indexer,col_indexer] = value instead\n",
      "\n",
      "See the caveats in the documentation: https://pandas.pydata.org/pandas-docs/stable/user_guide/indexing.html#returning-a-view-versus-a-copy\n",
      "  df_train[encoder_ohe.get_feature_names_out()] = \\\n",
      "C:\\Users\\Parkhom\\AppData\\Local\\Temp\\ipykernel_8476\\1791781703.py:1: SettingWithCopyWarning: \n",
      "A value is trying to be set on a copy of a slice from a DataFrame.\n",
      "Try using .loc[row_indexer,col_indexer] = value instead\n",
      "\n",
      "See the caveats in the documentation: https://pandas.pydata.org/pandas-docs/stable/user_guide/indexing.html#returning-a-view-versus-a-copy\n",
      "  df_train[encoder_ohe.get_feature_names_out()] = \\\n",
      "C:\\Users\\Parkhom\\AppData\\Local\\Temp\\ipykernel_8476\\1791781703.py:1: SettingWithCopyWarning: \n",
      "A value is trying to be set on a copy of a slice from a DataFrame.\n",
      "Try using .loc[row_indexer,col_indexer] = value instead\n",
      "\n",
      "See the caveats in the documentation: https://pandas.pydata.org/pandas-docs/stable/user_guide/indexing.html#returning-a-view-versus-a-copy\n",
      "  df_train[encoder_ohe.get_feature_names_out()] = \\\n",
      "C:\\Users\\Parkhom\\AppData\\Local\\Temp\\ipykernel_8476\\1791781703.py:1: SettingWithCopyWarning: \n",
      "A value is trying to be set on a copy of a slice from a DataFrame.\n",
      "Try using .loc[row_indexer,col_indexer] = value instead\n",
      "\n",
      "See the caveats in the documentation: https://pandas.pydata.org/pandas-docs/stable/user_guide/indexing.html#returning-a-view-versus-a-copy\n",
      "  df_train[encoder_ohe.get_feature_names_out()] = \\\n",
      "C:\\Users\\Parkhom\\AppData\\Local\\Temp\\ipykernel_8476\\1791781703.py:1: SettingWithCopyWarning: \n",
      "A value is trying to be set on a copy of a slice from a DataFrame.\n",
      "Try using .loc[row_indexer,col_indexer] = value instead\n",
      "\n",
      "See the caveats in the documentation: https://pandas.pydata.org/pandas-docs/stable/user_guide/indexing.html#returning-a-view-versus-a-copy\n",
      "  df_train[encoder_ohe.get_feature_names_out()] = \\\n",
      "C:\\Users\\Parkhom\\AppData\\Local\\Temp\\ipykernel_8476\\1791781703.py:1: SettingWithCopyWarning: \n",
      "A value is trying to be set on a copy of a slice from a DataFrame.\n",
      "Try using .loc[row_indexer,col_indexer] = value instead\n",
      "\n",
      "See the caveats in the documentation: https://pandas.pydata.org/pandas-docs/stable/user_guide/indexing.html#returning-a-view-versus-a-copy\n",
      "  df_train[encoder_ohe.get_feature_names_out()] = \\\n",
      "C:\\Users\\Parkhom\\AppData\\Local\\Temp\\ipykernel_8476\\1791781703.py:1: SettingWithCopyWarning: \n",
      "A value is trying to be set on a copy of a slice from a DataFrame.\n",
      "Try using .loc[row_indexer,col_indexer] = value instead\n",
      "\n",
      "See the caveats in the documentation: https://pandas.pydata.org/pandas-docs/stable/user_guide/indexing.html#returning-a-view-versus-a-copy\n",
      "  df_train[encoder_ohe.get_feature_names_out()] = \\\n",
      "C:\\Users\\Parkhom\\AppData\\Local\\Temp\\ipykernel_8476\\1791781703.py:1: SettingWithCopyWarning: \n",
      "A value is trying to be set on a copy of a slice from a DataFrame.\n",
      "Try using .loc[row_indexer,col_indexer] = value instead\n",
      "\n",
      "See the caveats in the documentation: https://pandas.pydata.org/pandas-docs/stable/user_guide/indexing.html#returning-a-view-versus-a-copy\n",
      "  df_train[encoder_ohe.get_feature_names_out()] = \\\n",
      "C:\\Users\\Parkhom\\AppData\\Local\\Temp\\ipykernel_8476\\1791781703.py:1: SettingWithCopyWarning: \n",
      "A value is trying to be set on a copy of a slice from a DataFrame.\n",
      "Try using .loc[row_indexer,col_indexer] = value instead\n",
      "\n",
      "See the caveats in the documentation: https://pandas.pydata.org/pandas-docs/stable/user_guide/indexing.html#returning-a-view-versus-a-copy\n",
      "  df_train[encoder_ohe.get_feature_names_out()] = \\\n",
      "C:\\Users\\Parkhom\\AppData\\Local\\Temp\\ipykernel_8476\\1791781703.py:1: SettingWithCopyWarning: \n",
      "A value is trying to be set on a copy of a slice from a DataFrame.\n",
      "Try using .loc[row_indexer,col_indexer] = value instead\n",
      "\n",
      "See the caveats in the documentation: https://pandas.pydata.org/pandas-docs/stable/user_guide/indexing.html#returning-a-view-versus-a-copy\n",
      "  df_train[encoder_ohe.get_feature_names_out()] = \\\n",
      "C:\\Users\\Parkhom\\AppData\\Local\\Temp\\ipykernel_8476\\1791781703.py:1: SettingWithCopyWarning: \n",
      "A value is trying to be set on a copy of a slice from a DataFrame.\n",
      "Try using .loc[row_indexer,col_indexer] = value instead\n",
      "\n",
      "See the caveats in the documentation: https://pandas.pydata.org/pandas-docs/stable/user_guide/indexing.html#returning-a-view-versus-a-copy\n",
      "  df_train[encoder_ohe.get_feature_names_out()] = \\\n",
      "C:\\Users\\Parkhom\\AppData\\Local\\Temp\\ipykernel_8476\\1791781703.py:1: SettingWithCopyWarning: \n",
      "A value is trying to be set on a copy of a slice from a DataFrame.\n",
      "Try using .loc[row_indexer,col_indexer] = value instead\n",
      "\n",
      "See the caveats in the documentation: https://pandas.pydata.org/pandas-docs/stable/user_guide/indexing.html#returning-a-view-versus-a-copy\n",
      "  df_train[encoder_ohe.get_feature_names_out()] = \\\n"
     ]
    }
   ],
   "source": [
    "df_train[encoder_ohe.get_feature_names_out()] = \\\n",
    "encoder_ohe.transform(df_train[object_list])"
   ]
  },
  {
   "cell_type": "code",
   "execution_count": 44,
   "id": "9094f222-eab6-40d0-bca9-71f7d97fcb0f",
   "metadata": {},
   "outputs": [],
   "source": [
    "# encoder_ohe.get_feature_names_out"
   ]
  },
  {
   "cell_type": "code",
   "execution_count": 45,
   "id": "31598c4b-4a7a-4053-af77-168fb4db606a",
   "metadata": {},
   "outputs": [],
   "source": [
    "df_train = df_train.drop(object_list, axis=1)"
   ]
  },
  {
   "cell_type": "code",
   "execution_count": 46,
   "id": "1b304fff-e952-4dbb-9708-cb7dba554ac4",
   "metadata": {},
   "outputs": [
    {
     "data": {
      "text/html": [
       "<div>\n",
       "<style scoped>\n",
       "    .dataframe tbody tr th:only-of-type {\n",
       "        vertical-align: middle;\n",
       "    }\n",
       "\n",
       "    .dataframe tbody tr th {\n",
       "        vertical-align: top;\n",
       "    }\n",
       "\n",
       "    .dataframe thead th {\n",
       "        text-align: right;\n",
       "    }\n",
       "</style>\n",
       "<table border=\"1\" class=\"dataframe\">\n",
       "  <thead>\n",
       "    <tr style=\"text-align: right;\">\n",
       "      <th></th>\n",
       "      <th>acousticness</th>\n",
       "      <th>danceability</th>\n",
       "      <th>duration_ms</th>\n",
       "      <th>energy</th>\n",
       "      <th>instrumentalness</th>\n",
       "      <th>liveness</th>\n",
       "      <th>loudness</th>\n",
       "      <th>speechiness</th>\n",
       "      <th>tempo</th>\n",
       "      <th>valence</th>\n",
       "      <th>...</th>\n",
       "      <th>key_D</th>\n",
       "      <th>key_D#</th>\n",
       "      <th>key_E</th>\n",
       "      <th>key_F</th>\n",
       "      <th>key_F#</th>\n",
       "      <th>key_G</th>\n",
       "      <th>key_G#</th>\n",
       "      <th>key_nan</th>\n",
       "      <th>mode_Minor</th>\n",
       "      <th>mode_nan</th>\n",
       "    </tr>\n",
       "  </thead>\n",
       "  <tbody>\n",
       "    <tr>\n",
       "      <th>0</th>\n",
       "      <td>0.637745</td>\n",
       "      <td>0.628268</td>\n",
       "      <td>-0.297563</td>\n",
       "      <td>-1.091424</td>\n",
       "      <td>-0.464619</td>\n",
       "      <td>-0.500870</td>\n",
       "      <td>-1.506823</td>\n",
       "      <td>-0.460901</td>\n",
       "      <td>-0.642814</td>\n",
       "      <td>-0.060037</td>\n",
       "      <td>...</td>\n",
       "      <td>1.0</td>\n",
       "      <td>0.0</td>\n",
       "      <td>0.0</td>\n",
       "      <td>0.0</td>\n",
       "      <td>0.0</td>\n",
       "      <td>0.0</td>\n",
       "      <td>0.0</td>\n",
       "      <td>0.0</td>\n",
       "      <td>0.0</td>\n",
       "      <td>0.0</td>\n",
       "    </tr>\n",
       "    <tr>\n",
       "      <th>1</th>\n",
       "      <td>-0.099057</td>\n",
       "      <td>-0.639874</td>\n",
       "      <td>-0.262216</td>\n",
       "      <td>0.178231</td>\n",
       "      <td>-0.521869</td>\n",
       "      <td>-0.542850</td>\n",
       "      <td>0.029462</td>\n",
       "      <td>-0.574486</td>\n",
       "      <td>-0.258739</td>\n",
       "      <td>0.305636</td>\n",
       "      <td>...</td>\n",
       "      <td>0.0</td>\n",
       "      <td>0.0</td>\n",
       "      <td>0.0</td>\n",
       "      <td>0.0</td>\n",
       "      <td>0.0</td>\n",
       "      <td>0.0</td>\n",
       "      <td>0.0</td>\n",
       "      <td>0.0</td>\n",
       "      <td>1.0</td>\n",
       "      <td>0.0</td>\n",
       "    </tr>\n",
       "    <tr>\n",
       "      <th>2</th>\n",
       "      <td>-0.145690</td>\n",
       "      <td>-0.628240</td>\n",
       "      <td>-0.370190</td>\n",
       "      <td>0.711565</td>\n",
       "      <td>-0.522035</td>\n",
       "      <td>-0.105063</td>\n",
       "      <td>0.605251</td>\n",
       "      <td>2.861730</td>\n",
       "      <td>-1.313359</td>\n",
       "      <td>-0.495558</td>\n",
       "      <td>...</td>\n",
       "      <td>0.0</td>\n",
       "      <td>0.0</td>\n",
       "      <td>1.0</td>\n",
       "      <td>0.0</td>\n",
       "      <td>0.0</td>\n",
       "      <td>0.0</td>\n",
       "      <td>0.0</td>\n",
       "      <td>0.0</td>\n",
       "      <td>1.0</td>\n",
       "      <td>0.0</td>\n",
       "    </tr>\n",
       "    <tr>\n",
       "      <th>3</th>\n",
       "      <td>-0.681038</td>\n",
       "      <td>1.657907</td>\n",
       "      <td>0.281041</td>\n",
       "      <td>0.986193</td>\n",
       "      <td>-0.522024</td>\n",
       "      <td>0.758518</td>\n",
       "      <td>0.681611</td>\n",
       "      <td>-0.111958</td>\n",
       "      <td>-0.162251</td>\n",
       "      <td>2.060047</td>\n",
       "      <td>...</td>\n",
       "      <td>0.0</td>\n",
       "      <td>0.0</td>\n",
       "      <td>0.0</td>\n",
       "      <td>0.0</td>\n",
       "      <td>0.0</td>\n",
       "      <td>0.0</td>\n",
       "      <td>1.0</td>\n",
       "      <td>0.0</td>\n",
       "      <td>1.0</td>\n",
       "      <td>0.0</td>\n",
       "    </tr>\n",
       "    <tr>\n",
       "      <th>4</th>\n",
       "      <td>-0.148799</td>\n",
       "      <td>1.047104</td>\n",
       "      <td>-0.197518</td>\n",
       "      <td>-0.199880</td>\n",
       "      <td>-0.522029</td>\n",
       "      <td>-0.135048</td>\n",
       "      <td>0.546163</td>\n",
       "      <td>-0.436342</td>\n",
       "      <td>-1.460785</td>\n",
       "      <td>0.486419</td>\n",
       "      <td>...</td>\n",
       "      <td>0.0</td>\n",
       "      <td>0.0</td>\n",
       "      <td>0.0</td>\n",
       "      <td>0.0</td>\n",
       "      <td>0.0</td>\n",
       "      <td>0.0</td>\n",
       "      <td>0.0</td>\n",
       "      <td>0.0</td>\n",
       "      <td>0.0</td>\n",
       "      <td>0.0</td>\n",
       "    </tr>\n",
       "    <tr>\n",
       "      <th>...</th>\n",
       "      <td>...</td>\n",
       "      <td>...</td>\n",
       "      <td>...</td>\n",
       "      <td>...</td>\n",
       "      <td>...</td>\n",
       "      <td>...</td>\n",
       "      <td>...</td>\n",
       "      <td>...</td>\n",
       "      <td>...</td>\n",
       "      <td>...</td>\n",
       "      <td>...</td>\n",
       "      <td>...</td>\n",
       "      <td>...</td>\n",
       "      <td>...</td>\n",
       "      <td>...</td>\n",
       "      <td>...</td>\n",
       "      <td>...</td>\n",
       "      <td>...</td>\n",
       "      <td>...</td>\n",
       "      <td>...</td>\n",
       "      <td>...</td>\n",
       "    </tr>\n",
       "    <tr>\n",
       "      <th>20389</th>\n",
       "      <td>1.380765</td>\n",
       "      <td>0.948212</td>\n",
       "      <td>-1.738699</td>\n",
       "      <td>-0.566050</td>\n",
       "      <td>-0.522035</td>\n",
       "      <td>-0.712568</td>\n",
       "      <td>-0.865401</td>\n",
       "      <td>-0.486483</td>\n",
       "      <td>-1.101949</td>\n",
       "      <td>1.961438</td>\n",
       "      <td>...</td>\n",
       "      <td>0.0</td>\n",
       "      <td>0.0</td>\n",
       "      <td>0.0</td>\n",
       "      <td>0.0</td>\n",
       "      <td>0.0</td>\n",
       "      <td>0.0</td>\n",
       "      <td>0.0</td>\n",
       "      <td>1.0</td>\n",
       "      <td>1.0</td>\n",
       "      <td>0.0</td>\n",
       "    </tr>\n",
       "    <tr>\n",
       "      <th>20390</th>\n",
       "      <td>-0.263827</td>\n",
       "      <td>-0.465359</td>\n",
       "      <td>-0.169114</td>\n",
       "      <td>-1.047643</td>\n",
       "      <td>-0.503701</td>\n",
       "      <td>-0.643001</td>\n",
       "      <td>-0.327974</td>\n",
       "      <td>-0.628721</td>\n",
       "      <td>-1.448132</td>\n",
       "      <td>-1.194036</td>\n",
       "      <td>...</td>\n",
       "      <td>0.0</td>\n",
       "      <td>0.0</td>\n",
       "      <td>0.0</td>\n",
       "      <td>0.0</td>\n",
       "      <td>1.0</td>\n",
       "      <td>0.0</td>\n",
       "      <td>0.0</td>\n",
       "      <td>0.0</td>\n",
       "      <td>1.0</td>\n",
       "      <td>0.0</td>\n",
       "    </tr>\n",
       "    <tr>\n",
       "      <th>20391</th>\n",
       "      <td>-0.852616</td>\n",
       "      <td>0.587548</td>\n",
       "      <td>0.004576</td>\n",
       "      <td>1.037934</td>\n",
       "      <td>-0.521953</td>\n",
       "      <td>0.512637</td>\n",
       "      <td>0.800878</td>\n",
       "      <td>-0.568346</td>\n",
       "      <td>0.849811</td>\n",
       "      <td>1.961438</td>\n",
       "      <td>...</td>\n",
       "      <td>1.0</td>\n",
       "      <td>0.0</td>\n",
       "      <td>0.0</td>\n",
       "      <td>0.0</td>\n",
       "      <td>0.0</td>\n",
       "      <td>0.0</td>\n",
       "      <td>0.0</td>\n",
       "      <td>0.0</td>\n",
       "      <td>0.0</td>\n",
       "      <td>0.0</td>\n",
       "    </tr>\n",
       "    <tr>\n",
       "      <th>20392</th>\n",
       "      <td>-0.844875</td>\n",
       "      <td>2.047657</td>\n",
       "      <td>-0.458826</td>\n",
       "      <td>-0.438686</td>\n",
       "      <td>-0.522035</td>\n",
       "      <td>-0.560841</td>\n",
       "      <td>-0.250887</td>\n",
       "      <td>2.708236</td>\n",
       "      <td>0.955401</td>\n",
       "      <td>-1.025579</td>\n",
       "      <td>...</td>\n",
       "      <td>0.0</td>\n",
       "      <td>0.0</td>\n",
       "      <td>0.0</td>\n",
       "      <td>0.0</td>\n",
       "      <td>0.0</td>\n",
       "      <td>0.0</td>\n",
       "      <td>0.0</td>\n",
       "      <td>0.0</td>\n",
       "      <td>0.0</td>\n",
       "      <td>0.0</td>\n",
       "    </tr>\n",
       "    <tr>\n",
       "      <th>20393</th>\n",
       "      <td>-0.688188</td>\n",
       "      <td>0.901675</td>\n",
       "      <td>0.406476</td>\n",
       "      <td>1.424005</td>\n",
       "      <td>1.079720</td>\n",
       "      <td>-0.542850</td>\n",
       "      <td>1.261581</td>\n",
       "      <td>0.029256</td>\n",
       "      <td>0.232011</td>\n",
       "      <td>-1.592579</td>\n",
       "      <td>...</td>\n",
       "      <td>0.0</td>\n",
       "      <td>1.0</td>\n",
       "      <td>0.0</td>\n",
       "      <td>0.0</td>\n",
       "      <td>0.0</td>\n",
       "      <td>0.0</td>\n",
       "      <td>0.0</td>\n",
       "      <td>0.0</td>\n",
       "      <td>1.0</td>\n",
       "      <td>0.0</td>\n",
       "    </tr>\n",
       "  </tbody>\n",
       "</table>\n",
       "<p>20387 rows × 25 columns</p>\n",
       "</div>"
      ],
      "text/plain": [
       "       acousticness  danceability  duration_ms    energy  instrumentalness  \\\n",
       "0          0.637745      0.628268    -0.297563 -1.091424         -0.464619   \n",
       "1         -0.099057     -0.639874    -0.262216  0.178231         -0.521869   \n",
       "2         -0.145690     -0.628240    -0.370190  0.711565         -0.522035   \n",
       "3         -0.681038      1.657907     0.281041  0.986193         -0.522024   \n",
       "4         -0.148799      1.047104    -0.197518 -0.199880         -0.522029   \n",
       "...             ...           ...          ...       ...               ...   \n",
       "20389      1.380765      0.948212    -1.738699 -0.566050         -0.522035   \n",
       "20390     -0.263827     -0.465359    -0.169114 -1.047643         -0.503701   \n",
       "20391     -0.852616      0.587548     0.004576  1.037934         -0.521953   \n",
       "20392     -0.844875      2.047657    -0.458826 -0.438686         -0.522035   \n",
       "20393     -0.688188      0.901675     0.406476  1.424005          1.079720   \n",
       "\n",
       "       liveness  loudness  speechiness     tempo   valence  ... key_D  key_D#  \\\n",
       "0     -0.500870 -1.506823    -0.460901 -0.642814 -0.060037  ...   1.0     0.0   \n",
       "1     -0.542850  0.029462    -0.574486 -0.258739  0.305636  ...   0.0     0.0   \n",
       "2     -0.105063  0.605251     2.861730 -1.313359 -0.495558  ...   0.0     0.0   \n",
       "3      0.758518  0.681611    -0.111958 -0.162251  2.060047  ...   0.0     0.0   \n",
       "4     -0.135048  0.546163    -0.436342 -1.460785  0.486419  ...   0.0     0.0   \n",
       "...         ...       ...          ...       ...       ...  ...   ...     ...   \n",
       "20389 -0.712568 -0.865401    -0.486483 -1.101949  1.961438  ...   0.0     0.0   \n",
       "20390 -0.643001 -0.327974    -0.628721 -1.448132 -1.194036  ...   0.0     0.0   \n",
       "20391  0.512637  0.800878    -0.568346  0.849811  1.961438  ...   1.0     0.0   \n",
       "20392 -0.560841 -0.250887     2.708236  0.955401 -1.025579  ...   0.0     0.0   \n",
       "20393 -0.542850  1.261581     0.029256  0.232011 -1.592579  ...   0.0     1.0   \n",
       "\n",
       "       key_E  key_F  key_F#  key_G  key_G#  key_nan  mode_Minor  mode_nan  \n",
       "0        0.0    0.0     0.0    0.0     0.0      0.0         0.0       0.0  \n",
       "1        0.0    0.0     0.0    0.0     0.0      0.0         1.0       0.0  \n",
       "2        1.0    0.0     0.0    0.0     0.0      0.0         1.0       0.0  \n",
       "3        0.0    0.0     0.0    0.0     1.0      0.0         1.0       0.0  \n",
       "4        0.0    0.0     0.0    0.0     0.0      0.0         0.0       0.0  \n",
       "...      ...    ...     ...    ...     ...      ...         ...       ...  \n",
       "20389    0.0    0.0     0.0    0.0     0.0      1.0         1.0       0.0  \n",
       "20390    0.0    0.0     1.0    0.0     0.0      0.0         1.0       0.0  \n",
       "20391    0.0    0.0     0.0    0.0     0.0      0.0         0.0       0.0  \n",
       "20392    0.0    0.0     0.0    0.0     0.0      0.0         0.0       0.0  \n",
       "20393    0.0    0.0     0.0    0.0     0.0      0.0         1.0       0.0  \n",
       "\n",
       "[20387 rows x 25 columns]"
      ]
     },
     "execution_count": 46,
     "metadata": {},
     "output_type": "execute_result"
    }
   ],
   "source": [
    "df_train"
   ]
  },
  {
   "cell_type": "code",
   "execution_count": 47,
   "id": "75ca78c0-2384-4da0-83db-87412f779c49",
   "metadata": {},
   "outputs": [
    {
     "data": {
      "text/plain": [
       "acousticness          0\n",
       "danceability          0\n",
       "duration_ms           0\n",
       "energy                0\n",
       "instrumentalness      0\n",
       "liveness              0\n",
       "loudness              0\n",
       "speechiness           0\n",
       "tempo               442\n",
       "valence               0\n",
       "music_genre           0\n",
       "key_A#                0\n",
       "key_B                 0\n",
       "key_C                 0\n",
       "key_C#                0\n",
       "key_D                 0\n",
       "key_D#                0\n",
       "key_E                 0\n",
       "key_F                 0\n",
       "key_F#                0\n",
       "key_G                 0\n",
       "key_G#                0\n",
       "key_nan               0\n",
       "mode_Minor            0\n",
       "mode_nan              0\n",
       "dtype: int64"
      ]
     },
     "execution_count": 47,
     "metadata": {},
     "output_type": "execute_result"
    }
   ],
   "source": [
    " df_train.isna().sum()"
   ]
  },
  {
   "cell_type": "code",
   "execution_count": 48,
   "id": "b93cf6b0-f971-408a-94f6-19b73bf0cb6c",
   "metadata": {},
   "outputs": [],
   "source": [
    "df_train = df_train.dropna()"
   ]
  },
  {
   "cell_type": "code",
   "execution_count": 49,
   "id": "7519c8a9-0e69-48e6-8bd5-e5cd0e34070d",
   "metadata": {},
   "outputs": [],
   "source": [
    "Target = df_train['music_genre']"
   ]
  },
  {
   "cell_type": "code",
   "execution_count": 50,
   "id": "e1a1e1e7-8cc6-4d79-bbc2-b63f9f0483b0",
   "metadata": {},
   "outputs": [],
   "source": [
    "df_train = df_train.drop(['music_genre'], axis =1)"
   ]
  },
  {
   "cell_type": "markdown",
   "id": "01c052db-498d-46bd-8d91-b07625c94b66",
   "metadata": {},
   "source": [
    "## Обучение"
   ]
  },
  {
   "cell_type": "code",
   "execution_count": null,
   "id": "5f7cb698-1d27-4b11-b9ea-c54b43fb77e2",
   "metadata": {},
   "outputs": [],
   "source": []
  },
  {
   "cell_type": "code",
   "execution_count": 51,
   "id": "aab1ea1d-78dd-4f5f-b256-066ef9cb9627",
   "metadata": {},
   "outputs": [],
   "source": [
    "\n",
    "\n",
    "# iris = datasets.load_iris()\n",
    "# parameters = {'kernel':('linear', 'rbf'), 'C':[1, 10]}\n",
    "# svc = svm.SVC()\n",
    "# clf = GridSearchCV(svc, parameters)\n",
    "# clf.fit(iris.data, iris.target)"
   ]
  },
  {
   "cell_type": "code",
   "execution_count": 52,
   "id": "9f360f7f-4503-4e86-b24a-e4de69335f81",
   "metadata": {},
   "outputs": [],
   "source": [
    "# clf = LogisticRegression(random_state=0)"
   ]
  },
  {
   "cell_type": "code",
   "execution_count": 53,
   "id": "451aef78-c5fe-4a02-86c3-a0365a52a744",
   "metadata": {},
   "outputs": [],
   "source": [
    "parameters = {'class_weight':['balanced'],\n",
    "             'max_iter':[1000, 2000],\n",
    "             'solver':['lbfgs', 'liblinear', 'newton-cg', 'newton-cholesky', 'sag', 'saga']}\n",
    "RegModel = GridSearchCV(LogisticRegression(),\n",
    "                   parameters,\n",
    "                   n_jobs = -1,\n",
    "                   cv = 7,\n",
    "                   return_train_score = True)"
   ]
  },
  {
   "cell_type": "code",
   "execution_count": 54,
   "id": "36acfbeb-ac66-485e-aeb2-88acbaf6570e",
   "metadata": {},
   "outputs": [
    {
     "data": {
      "text/html": [
       "<style>#sk-container-id-2 {color: black;}#sk-container-id-2 pre{padding: 0;}#sk-container-id-2 div.sk-toggleable {background-color: white;}#sk-container-id-2 label.sk-toggleable__label {cursor: pointer;display: block;width: 100%;margin-bottom: 0;padding: 0.3em;box-sizing: border-box;text-align: center;}#sk-container-id-2 label.sk-toggleable__label-arrow:before {content: \"▸\";float: left;margin-right: 0.25em;color: #696969;}#sk-container-id-2 label.sk-toggleable__label-arrow:hover:before {color: black;}#sk-container-id-2 div.sk-estimator:hover label.sk-toggleable__label-arrow:before {color: black;}#sk-container-id-2 div.sk-toggleable__content {max-height: 0;max-width: 0;overflow: hidden;text-align: left;background-color: #f0f8ff;}#sk-container-id-2 div.sk-toggleable__content pre {margin: 0.2em;color: black;border-radius: 0.25em;background-color: #f0f8ff;}#sk-container-id-2 input.sk-toggleable__control:checked~div.sk-toggleable__content {max-height: 200px;max-width: 100%;overflow: auto;}#sk-container-id-2 input.sk-toggleable__control:checked~label.sk-toggleable__label-arrow:before {content: \"▾\";}#sk-container-id-2 div.sk-estimator input.sk-toggleable__control:checked~label.sk-toggleable__label {background-color: #d4ebff;}#sk-container-id-2 div.sk-label input.sk-toggleable__control:checked~label.sk-toggleable__label {background-color: #d4ebff;}#sk-container-id-2 input.sk-hidden--visually {border: 0;clip: rect(1px 1px 1px 1px);clip: rect(1px, 1px, 1px, 1px);height: 1px;margin: -1px;overflow: hidden;padding: 0;position: absolute;width: 1px;}#sk-container-id-2 div.sk-estimator {font-family: monospace;background-color: #f0f8ff;border: 1px dotted black;border-radius: 0.25em;box-sizing: border-box;margin-bottom: 0.5em;}#sk-container-id-2 div.sk-estimator:hover {background-color: #d4ebff;}#sk-container-id-2 div.sk-parallel-item::after {content: \"\";width: 100%;border-bottom: 1px solid gray;flex-grow: 1;}#sk-container-id-2 div.sk-label:hover label.sk-toggleable__label {background-color: #d4ebff;}#sk-container-id-2 div.sk-serial::before {content: \"\";position: absolute;border-left: 1px solid gray;box-sizing: border-box;top: 0;bottom: 0;left: 50%;z-index: 0;}#sk-container-id-2 div.sk-serial {display: flex;flex-direction: column;align-items: center;background-color: white;padding-right: 0.2em;padding-left: 0.2em;position: relative;}#sk-container-id-2 div.sk-item {position: relative;z-index: 1;}#sk-container-id-2 div.sk-parallel {display: flex;align-items: stretch;justify-content: center;background-color: white;position: relative;}#sk-container-id-2 div.sk-item::before, #sk-container-id-2 div.sk-parallel-item::before {content: \"\";position: absolute;border-left: 1px solid gray;box-sizing: border-box;top: 0;bottom: 0;left: 50%;z-index: -1;}#sk-container-id-2 div.sk-parallel-item {display: flex;flex-direction: column;z-index: 1;position: relative;background-color: white;}#sk-container-id-2 div.sk-parallel-item:first-child::after {align-self: flex-end;width: 50%;}#sk-container-id-2 div.sk-parallel-item:last-child::after {align-self: flex-start;width: 50%;}#sk-container-id-2 div.sk-parallel-item:only-child::after {width: 0;}#sk-container-id-2 div.sk-dashed-wrapped {border: 1px dashed gray;margin: 0 0.4em 0.5em 0.4em;box-sizing: border-box;padding-bottom: 0.4em;background-color: white;}#sk-container-id-2 div.sk-label label {font-family: monospace;font-weight: bold;display: inline-block;line-height: 1.2em;}#sk-container-id-2 div.sk-label-container {text-align: center;}#sk-container-id-2 div.sk-container {/* jupyter's `normalize.less` sets `[hidden] { display: none; }` but bootstrap.min.css set `[hidden] { display: none !important; }` so we also need the `!important` here to be able to override the default hidden behavior on the sphinx rendered scikit-learn.org. See: https://github.com/scikit-learn/scikit-learn/issues/21755 */display: inline-block !important;position: relative;}#sk-container-id-2 div.sk-text-repr-fallback {display: none;}</style><div id=\"sk-container-id-2\" class=\"sk-top-container\"><div class=\"sk-text-repr-fallback\"><pre>GridSearchCV(cv=7, estimator=LogisticRegression(), n_jobs=-1,\n",
       "             param_grid={&#x27;class_weight&#x27;: [&#x27;balanced&#x27;], &#x27;max_iter&#x27;: [1000, 2000],\n",
       "                         &#x27;solver&#x27;: [&#x27;lbfgs&#x27;, &#x27;liblinear&#x27;, &#x27;newton-cg&#x27;,\n",
       "                                    &#x27;newton-cholesky&#x27;, &#x27;sag&#x27;, &#x27;saga&#x27;]},\n",
       "             return_train_score=True)</pre><b>In a Jupyter environment, please rerun this cell to show the HTML representation or trust the notebook. <br />On GitHub, the HTML representation is unable to render, please try loading this page with nbviewer.org.</b></div><div class=\"sk-container\" hidden><div class=\"sk-item sk-dashed-wrapped\"><div class=\"sk-label-container\"><div class=\"sk-label sk-toggleable\"><input class=\"sk-toggleable__control sk-hidden--visually\" id=\"sk-estimator-id-2\" type=\"checkbox\" ><label for=\"sk-estimator-id-2\" class=\"sk-toggleable__label sk-toggleable__label-arrow\">GridSearchCV</label><div class=\"sk-toggleable__content\"><pre>GridSearchCV(cv=7, estimator=LogisticRegression(), n_jobs=-1,\n",
       "             param_grid={&#x27;class_weight&#x27;: [&#x27;balanced&#x27;], &#x27;max_iter&#x27;: [1000, 2000],\n",
       "                         &#x27;solver&#x27;: [&#x27;lbfgs&#x27;, &#x27;liblinear&#x27;, &#x27;newton-cg&#x27;,\n",
       "                                    &#x27;newton-cholesky&#x27;, &#x27;sag&#x27;, &#x27;saga&#x27;]},\n",
       "             return_train_score=True)</pre></div></div></div><div class=\"sk-parallel\"><div class=\"sk-parallel-item\"><div class=\"sk-item\"><div class=\"sk-label-container\"><div class=\"sk-label sk-toggleable\"><input class=\"sk-toggleable__control sk-hidden--visually\" id=\"sk-estimator-id-3\" type=\"checkbox\" ><label for=\"sk-estimator-id-3\" class=\"sk-toggleable__label sk-toggleable__label-arrow\">estimator: LogisticRegression</label><div class=\"sk-toggleable__content\"><pre>LogisticRegression()</pre></div></div></div><div class=\"sk-serial\"><div class=\"sk-item\"><div class=\"sk-estimator sk-toggleable\"><input class=\"sk-toggleable__control sk-hidden--visually\" id=\"sk-estimator-id-4\" type=\"checkbox\" ><label for=\"sk-estimator-id-4\" class=\"sk-toggleable__label sk-toggleable__label-arrow\">LogisticRegression</label><div class=\"sk-toggleable__content\"><pre>LogisticRegression()</pre></div></div></div></div></div></div></div></div></div></div>"
      ],
      "text/plain": [
       "GridSearchCV(cv=7, estimator=LogisticRegression(), n_jobs=-1,\n",
       "             param_grid={'class_weight': ['balanced'], 'max_iter': [1000, 2000],\n",
       "                         'solver': ['lbfgs', 'liblinear', 'newton-cg',\n",
       "                                    'newton-cholesky', 'sag', 'saga']},\n",
       "             return_train_score=True)"
      ]
     },
     "execution_count": 54,
     "metadata": {},
     "output_type": "execute_result"
    }
   ],
   "source": [
    "RegModel.fit(df_train, Target)"
   ]
  },
  {
   "cell_type": "code",
   "execution_count": 55,
   "id": "2cc22848-214e-4a3e-af6d-02943922853a",
   "metadata": {},
   "outputs": [],
   "source": [
    "from sklearn.metrics import f1_score"
   ]
  },
  {
   "cell_type": "code",
   "execution_count": 56,
   "id": "522a1c2e-5f67-490a-bdbf-805ac60ab524",
   "metadata": {},
   "outputs": [],
   "source": [
    "# RegModel.best_estimator_"
   ]
  },
  {
   "cell_type": "code",
   "execution_count": 57,
   "id": "2481bbea-3be0-4f15-974a-521788c2bf06",
   "metadata": {},
   "outputs": [
    {
     "data": {
      "text/plain": [
       "{'class_weight': 'balanced', 'max_iter': 1000, 'solver': 'liblinear'}"
      ]
     },
     "execution_count": 57,
     "metadata": {},
     "output_type": "execute_result"
    }
   ],
   "source": [
    "RegModel.best_params_"
   ]
  },
  {
   "cell_type": "code",
   "execution_count": 58,
   "id": "cb4f38c2-15ff-4709-9e27-b55d2049794b",
   "metadata": {},
   "outputs": [
    {
     "data": {
      "text/plain": [
       "0.3972424166457758"
      ]
     },
     "execution_count": 58,
     "metadata": {},
     "output_type": "execute_result"
    }
   ],
   "source": [
    "f1_score(RegModel.predict(df_train), Target, average='micro')"
   ]
  },
  {
   "cell_type": "code",
   "execution_count": null,
   "id": "736b1eaf-a962-4c48-87c4-9e03640b4992",
   "metadata": {},
   "outputs": [],
   "source": []
  },
  {
   "cell_type": "code",
   "execution_count": 59,
   "id": "b9ef0316-d48d-47aa-be0a-1babeba20b5f",
   "metadata": {},
   "outputs": [],
   "source": [
    "CBC = CatBoostClassifier(verbose=False, \n",
    "                         task_type=\"GPU\",\n",
    "                         devices='0:1')"
   ]
  },
  {
   "cell_type": "code",
   "execution_count": 60,
   "id": "991e09e0-7c8a-4e73-a8b8-32f854c0c95a",
   "metadata": {},
   "outputs": [],
   "source": [
    "parameters = {'depth'         : [4,5,6,7,8],\n",
    "                 'learning_rate' : [0.01,0.05,0.08,0.1],\n",
    "                  'iterations'    : [10,30,50,70,90,]\n",
    "                 }\n"
   ]
  },
  {
   "cell_type": "code",
   "execution_count": 61,
   "id": "0d753e8b-85a3-44d2-81e7-686ce1f53a4a",
   "metadata": {},
   "outputs": [
    {
     "name": "stderr",
     "output_type": "stream",
     "text": [
      "C:\\Users\\Parkhom\\anaconda3\\envs\\new\\Lib\\site-packages\\joblib\\externals\\loky\\process_executor.py:700: UserWarning: A worker stopped while some jobs were given to the executor. This can be caused by a too short worker timeout or by a memory leak.\n",
      "  warnings.warn(\n"
     ]
    },
    {
     "data": {
      "text/html": [
       "<style>#sk-container-id-3 {color: black;}#sk-container-id-3 pre{padding: 0;}#sk-container-id-3 div.sk-toggleable {background-color: white;}#sk-container-id-3 label.sk-toggleable__label {cursor: pointer;display: block;width: 100%;margin-bottom: 0;padding: 0.3em;box-sizing: border-box;text-align: center;}#sk-container-id-3 label.sk-toggleable__label-arrow:before {content: \"▸\";float: left;margin-right: 0.25em;color: #696969;}#sk-container-id-3 label.sk-toggleable__label-arrow:hover:before {color: black;}#sk-container-id-3 div.sk-estimator:hover label.sk-toggleable__label-arrow:before {color: black;}#sk-container-id-3 div.sk-toggleable__content {max-height: 0;max-width: 0;overflow: hidden;text-align: left;background-color: #f0f8ff;}#sk-container-id-3 div.sk-toggleable__content pre {margin: 0.2em;color: black;border-radius: 0.25em;background-color: #f0f8ff;}#sk-container-id-3 input.sk-toggleable__control:checked~div.sk-toggleable__content {max-height: 200px;max-width: 100%;overflow: auto;}#sk-container-id-3 input.sk-toggleable__control:checked~label.sk-toggleable__label-arrow:before {content: \"▾\";}#sk-container-id-3 div.sk-estimator input.sk-toggleable__control:checked~label.sk-toggleable__label {background-color: #d4ebff;}#sk-container-id-3 div.sk-label input.sk-toggleable__control:checked~label.sk-toggleable__label {background-color: #d4ebff;}#sk-container-id-3 input.sk-hidden--visually {border: 0;clip: rect(1px 1px 1px 1px);clip: rect(1px, 1px, 1px, 1px);height: 1px;margin: -1px;overflow: hidden;padding: 0;position: absolute;width: 1px;}#sk-container-id-3 div.sk-estimator {font-family: monospace;background-color: #f0f8ff;border: 1px dotted black;border-radius: 0.25em;box-sizing: border-box;margin-bottom: 0.5em;}#sk-container-id-3 div.sk-estimator:hover {background-color: #d4ebff;}#sk-container-id-3 div.sk-parallel-item::after {content: \"\";width: 100%;border-bottom: 1px solid gray;flex-grow: 1;}#sk-container-id-3 div.sk-label:hover label.sk-toggleable__label {background-color: #d4ebff;}#sk-container-id-3 div.sk-serial::before {content: \"\";position: absolute;border-left: 1px solid gray;box-sizing: border-box;top: 0;bottom: 0;left: 50%;z-index: 0;}#sk-container-id-3 div.sk-serial {display: flex;flex-direction: column;align-items: center;background-color: white;padding-right: 0.2em;padding-left: 0.2em;position: relative;}#sk-container-id-3 div.sk-item {position: relative;z-index: 1;}#sk-container-id-3 div.sk-parallel {display: flex;align-items: stretch;justify-content: center;background-color: white;position: relative;}#sk-container-id-3 div.sk-item::before, #sk-container-id-3 div.sk-parallel-item::before {content: \"\";position: absolute;border-left: 1px solid gray;box-sizing: border-box;top: 0;bottom: 0;left: 50%;z-index: -1;}#sk-container-id-3 div.sk-parallel-item {display: flex;flex-direction: column;z-index: 1;position: relative;background-color: white;}#sk-container-id-3 div.sk-parallel-item:first-child::after {align-self: flex-end;width: 50%;}#sk-container-id-3 div.sk-parallel-item:last-child::after {align-self: flex-start;width: 50%;}#sk-container-id-3 div.sk-parallel-item:only-child::after {width: 0;}#sk-container-id-3 div.sk-dashed-wrapped {border: 1px dashed gray;margin: 0 0.4em 0.5em 0.4em;box-sizing: border-box;padding-bottom: 0.4em;background-color: white;}#sk-container-id-3 div.sk-label label {font-family: monospace;font-weight: bold;display: inline-block;line-height: 1.2em;}#sk-container-id-3 div.sk-label-container {text-align: center;}#sk-container-id-3 div.sk-container {/* jupyter's `normalize.less` sets `[hidden] { display: none; }` but bootstrap.min.css set `[hidden] { display: none !important; }` so we also need the `!important` here to be able to override the default hidden behavior on the sphinx rendered scikit-learn.org. See: https://github.com/scikit-learn/scikit-learn/issues/21755 */display: inline-block !important;position: relative;}#sk-container-id-3 div.sk-text-repr-fallback {display: none;}</style><div id=\"sk-container-id-3\" class=\"sk-top-container\"><div class=\"sk-text-repr-fallback\"><pre>GridSearchCV(cv=7,\n",
       "             estimator=&lt;catboost.core.CatBoostClassifier object at 0x000001D5EFEA4290&gt;,\n",
       "             n_jobs=-1,\n",
       "             param_grid={&#x27;depth&#x27;: [4, 5, 6, 7, 8],\n",
       "                         &#x27;iterations&#x27;: [10, 30, 50, 70, 90],\n",
       "                         &#x27;learning_rate&#x27;: [0.01, 0.05, 0.08, 0.1]})</pre><b>In a Jupyter environment, please rerun this cell to show the HTML representation or trust the notebook. <br />On GitHub, the HTML representation is unable to render, please try loading this page with nbviewer.org.</b></div><div class=\"sk-container\" hidden><div class=\"sk-item sk-dashed-wrapped\"><div class=\"sk-label-container\"><div class=\"sk-label sk-toggleable\"><input class=\"sk-toggleable__control sk-hidden--visually\" id=\"sk-estimator-id-5\" type=\"checkbox\" ><label for=\"sk-estimator-id-5\" class=\"sk-toggleable__label sk-toggleable__label-arrow\">GridSearchCV</label><div class=\"sk-toggleable__content\"><pre>GridSearchCV(cv=7,\n",
       "             estimator=&lt;catboost.core.CatBoostClassifier object at 0x000001D5EFEA4290&gt;,\n",
       "             n_jobs=-1,\n",
       "             param_grid={&#x27;depth&#x27;: [4, 5, 6, 7, 8],\n",
       "                         &#x27;iterations&#x27;: [10, 30, 50, 70, 90],\n",
       "                         &#x27;learning_rate&#x27;: [0.01, 0.05, 0.08, 0.1]})</pre></div></div></div><div class=\"sk-parallel\"><div class=\"sk-parallel-item\"><div class=\"sk-item\"><div class=\"sk-label-container\"><div class=\"sk-label sk-toggleable\"><input class=\"sk-toggleable__control sk-hidden--visually\" id=\"sk-estimator-id-6\" type=\"checkbox\" ><label for=\"sk-estimator-id-6\" class=\"sk-toggleable__label sk-toggleable__label-arrow\">estimator: CatBoostClassifier</label><div class=\"sk-toggleable__content\"><pre>&lt;catboost.core.CatBoostClassifier object at 0x000001D5EFEA4290&gt;</pre></div></div></div><div class=\"sk-serial\"><div class=\"sk-item\"><div class=\"sk-estimator sk-toggleable\"><input class=\"sk-toggleable__control sk-hidden--visually\" id=\"sk-estimator-id-7\" type=\"checkbox\" ><label for=\"sk-estimator-id-7\" class=\"sk-toggleable__label sk-toggleable__label-arrow\">CatBoostClassifier</label><div class=\"sk-toggleable__content\"><pre>&lt;catboost.core.CatBoostClassifier object at 0x000001D5EFEA4290&gt;</pre></div></div></div></div></div></div></div></div></div></div>"
      ],
      "text/plain": [
       "GridSearchCV(cv=7,\n",
       "             estimator=<catboost.core.CatBoostClassifier object at 0x000001D5EFEA4290>,\n",
       "             n_jobs=-1,\n",
       "             param_grid={'depth': [4, 5, 6, 7, 8],\n",
       "                         'iterations': [10, 30, 50, 70, 90],\n",
       "                         'learning_rate': [0.01, 0.05, 0.08, 0.1]})"
      ]
     },
     "execution_count": 61,
     "metadata": {},
     "output_type": "execute_result"
    }
   ],
   "source": [
    "Grid_CBC = GridSearchCV(estimator=CBC, param_grid = parameters, cv = 7, n_jobs=-1)\n",
    "Grid_CBC.fit(df_train, Target)\n"
   ]
  },
  {
   "cell_type": "code",
   "execution_count": 62,
   "id": "730efab3-347e-4c0a-b971-624bfd10638e",
   "metadata": {},
   "outputs": [
    {
     "data": {
      "text/plain": [
       "0.5261970418651291"
      ]
     },
     "execution_count": 62,
     "metadata": {},
     "output_type": "execute_result"
    }
   ],
   "source": [
    "f1_score(Grid_CBC.predict(df_train), Target, average='micro')"
   ]
  },
  {
   "cell_type": "code",
   "execution_count": 66,
   "id": "89b95624-2b34-44d7-a424-376c5896dc99",
   "metadata": {},
   "outputs": [
    {
     "data": {
      "text/plain": [
       "{'depth': 7, 'iterations': 90, 'learning_rate': 0.1}"
      ]
     },
     "execution_count": 66,
     "metadata": {},
     "output_type": "execute_result"
    }
   ],
   "source": [
    "Grid_CBC.best_params_"
   ]
  },
  {
   "cell_type": "code",
   "execution_count": 63,
   "id": "e9005abb-e099-4c72-b7f0-b8fd3920bbab",
   "metadata": {},
   "outputs": [],
   "source": [
    "parameters = {'n_estimators':[100, 200,300, 500],\n",
    "              'max_depth': [2,4,6,8,12],\n",
    "              'criterion':['gini', 'entropy', 'log_loss']}\n",
    "ForModel = GridSearchCV(RandomForestClassifier(),\n",
    "                   parameters,\n",
    "                   n_jobs = -1,\n",
    "                   cv = 7,\n",
    "                   return_train_score = True)"
   ]
  },
  {
   "cell_type": "code",
   "execution_count": 64,
   "id": "8dddf4d0-e514-4f1d-ab58-a4316c92b918",
   "metadata": {},
   "outputs": [
    {
     "data": {
      "text/html": [
       "<style>#sk-container-id-4 {color: black;}#sk-container-id-4 pre{padding: 0;}#sk-container-id-4 div.sk-toggleable {background-color: white;}#sk-container-id-4 label.sk-toggleable__label {cursor: pointer;display: block;width: 100%;margin-bottom: 0;padding: 0.3em;box-sizing: border-box;text-align: center;}#sk-container-id-4 label.sk-toggleable__label-arrow:before {content: \"▸\";float: left;margin-right: 0.25em;color: #696969;}#sk-container-id-4 label.sk-toggleable__label-arrow:hover:before {color: black;}#sk-container-id-4 div.sk-estimator:hover label.sk-toggleable__label-arrow:before {color: black;}#sk-container-id-4 div.sk-toggleable__content {max-height: 0;max-width: 0;overflow: hidden;text-align: left;background-color: #f0f8ff;}#sk-container-id-4 div.sk-toggleable__content pre {margin: 0.2em;color: black;border-radius: 0.25em;background-color: #f0f8ff;}#sk-container-id-4 input.sk-toggleable__control:checked~div.sk-toggleable__content {max-height: 200px;max-width: 100%;overflow: auto;}#sk-container-id-4 input.sk-toggleable__control:checked~label.sk-toggleable__label-arrow:before {content: \"▾\";}#sk-container-id-4 div.sk-estimator input.sk-toggleable__control:checked~label.sk-toggleable__label {background-color: #d4ebff;}#sk-container-id-4 div.sk-label input.sk-toggleable__control:checked~label.sk-toggleable__label {background-color: #d4ebff;}#sk-container-id-4 input.sk-hidden--visually {border: 0;clip: rect(1px 1px 1px 1px);clip: rect(1px, 1px, 1px, 1px);height: 1px;margin: -1px;overflow: hidden;padding: 0;position: absolute;width: 1px;}#sk-container-id-4 div.sk-estimator {font-family: monospace;background-color: #f0f8ff;border: 1px dotted black;border-radius: 0.25em;box-sizing: border-box;margin-bottom: 0.5em;}#sk-container-id-4 div.sk-estimator:hover {background-color: #d4ebff;}#sk-container-id-4 div.sk-parallel-item::after {content: \"\";width: 100%;border-bottom: 1px solid gray;flex-grow: 1;}#sk-container-id-4 div.sk-label:hover label.sk-toggleable__label {background-color: #d4ebff;}#sk-container-id-4 div.sk-serial::before {content: \"\";position: absolute;border-left: 1px solid gray;box-sizing: border-box;top: 0;bottom: 0;left: 50%;z-index: 0;}#sk-container-id-4 div.sk-serial {display: flex;flex-direction: column;align-items: center;background-color: white;padding-right: 0.2em;padding-left: 0.2em;position: relative;}#sk-container-id-4 div.sk-item {position: relative;z-index: 1;}#sk-container-id-4 div.sk-parallel {display: flex;align-items: stretch;justify-content: center;background-color: white;position: relative;}#sk-container-id-4 div.sk-item::before, #sk-container-id-4 div.sk-parallel-item::before {content: \"\";position: absolute;border-left: 1px solid gray;box-sizing: border-box;top: 0;bottom: 0;left: 50%;z-index: -1;}#sk-container-id-4 div.sk-parallel-item {display: flex;flex-direction: column;z-index: 1;position: relative;background-color: white;}#sk-container-id-4 div.sk-parallel-item:first-child::after {align-self: flex-end;width: 50%;}#sk-container-id-4 div.sk-parallel-item:last-child::after {align-self: flex-start;width: 50%;}#sk-container-id-4 div.sk-parallel-item:only-child::after {width: 0;}#sk-container-id-4 div.sk-dashed-wrapped {border: 1px dashed gray;margin: 0 0.4em 0.5em 0.4em;box-sizing: border-box;padding-bottom: 0.4em;background-color: white;}#sk-container-id-4 div.sk-label label {font-family: monospace;font-weight: bold;display: inline-block;line-height: 1.2em;}#sk-container-id-4 div.sk-label-container {text-align: center;}#sk-container-id-4 div.sk-container {/* jupyter's `normalize.less` sets `[hidden] { display: none; }` but bootstrap.min.css set `[hidden] { display: none !important; }` so we also need the `!important` here to be able to override the default hidden behavior on the sphinx rendered scikit-learn.org. See: https://github.com/scikit-learn/scikit-learn/issues/21755 */display: inline-block !important;position: relative;}#sk-container-id-4 div.sk-text-repr-fallback {display: none;}</style><div id=\"sk-container-id-4\" class=\"sk-top-container\"><div class=\"sk-text-repr-fallback\"><pre>GridSearchCV(cv=7, estimator=RandomForestClassifier(), n_jobs=-1,\n",
       "             param_grid={&#x27;criterion&#x27;: [&#x27;gini&#x27;, &#x27;entropy&#x27;, &#x27;log_loss&#x27;],\n",
       "                         &#x27;max_depth&#x27;: [2, 4, 6, 8, 12],\n",
       "                         &#x27;n_estimators&#x27;: [100, 200, 300, 500]},\n",
       "             return_train_score=True)</pre><b>In a Jupyter environment, please rerun this cell to show the HTML representation or trust the notebook. <br />On GitHub, the HTML representation is unable to render, please try loading this page with nbviewer.org.</b></div><div class=\"sk-container\" hidden><div class=\"sk-item sk-dashed-wrapped\"><div class=\"sk-label-container\"><div class=\"sk-label sk-toggleable\"><input class=\"sk-toggleable__control sk-hidden--visually\" id=\"sk-estimator-id-8\" type=\"checkbox\" ><label for=\"sk-estimator-id-8\" class=\"sk-toggleable__label sk-toggleable__label-arrow\">GridSearchCV</label><div class=\"sk-toggleable__content\"><pre>GridSearchCV(cv=7, estimator=RandomForestClassifier(), n_jobs=-1,\n",
       "             param_grid={&#x27;criterion&#x27;: [&#x27;gini&#x27;, &#x27;entropy&#x27;, &#x27;log_loss&#x27;],\n",
       "                         &#x27;max_depth&#x27;: [2, 4, 6, 8, 12],\n",
       "                         &#x27;n_estimators&#x27;: [100, 200, 300, 500]},\n",
       "             return_train_score=True)</pre></div></div></div><div class=\"sk-parallel\"><div class=\"sk-parallel-item\"><div class=\"sk-item\"><div class=\"sk-label-container\"><div class=\"sk-label sk-toggleable\"><input class=\"sk-toggleable__control sk-hidden--visually\" id=\"sk-estimator-id-9\" type=\"checkbox\" ><label for=\"sk-estimator-id-9\" class=\"sk-toggleable__label sk-toggleable__label-arrow\">estimator: RandomForestClassifier</label><div class=\"sk-toggleable__content\"><pre>RandomForestClassifier()</pre></div></div></div><div class=\"sk-serial\"><div class=\"sk-item\"><div class=\"sk-estimator sk-toggleable\"><input class=\"sk-toggleable__control sk-hidden--visually\" id=\"sk-estimator-id-10\" type=\"checkbox\" ><label for=\"sk-estimator-id-10\" class=\"sk-toggleable__label sk-toggleable__label-arrow\">RandomForestClassifier</label><div class=\"sk-toggleable__content\"><pre>RandomForestClassifier()</pre></div></div></div></div></div></div></div></div></div></div>"
      ],
      "text/plain": [
       "GridSearchCV(cv=7, estimator=RandomForestClassifier(), n_jobs=-1,\n",
       "             param_grid={'criterion': ['gini', 'entropy', 'log_loss'],\n",
       "                         'max_depth': [2, 4, 6, 8, 12],\n",
       "                         'n_estimators': [100, 200, 300, 500]},\n",
       "             return_train_score=True)"
      ]
     },
     "execution_count": 64,
     "metadata": {},
     "output_type": "execute_result"
    }
   ],
   "source": [
    "ForModel.fit(df_train, Target)"
   ]
  },
  {
   "cell_type": "code",
   "execution_count": 65,
   "id": "f5874981-650c-4f90-92cf-8358a995619f",
   "metadata": {},
   "outputs": [
    {
     "data": {
      "text/plain": [
       "0.7492103284031085"
      ]
     },
     "execution_count": 65,
     "metadata": {},
     "output_type": "execute_result"
    }
   ],
   "source": [
    "f1_score(ForModel.predict(df_train), Target, average='micro')"
   ]
  },
  {
   "cell_type": "code",
   "execution_count": 67,
   "id": "31a18cb6-cd0d-4b71-9539-2e3b746049e8",
   "metadata": {},
   "outputs": [
    {
     "data": {
      "text/plain": [
       "{'criterion': 'log_loss', 'max_depth': 12, 'n_estimators': 300}"
      ]
     },
     "execution_count": 67,
     "metadata": {},
     "output_type": "execute_result"
    }
   ],
   "source": [
    "ForModel.best_params_"
   ]
  },
  {
   "cell_type": "code",
   "execution_count": null,
   "id": "c2ab2f70-fb61-4e7f-98b3-76886a008d45",
   "metadata": {},
   "outputs": [],
   "source": []
  },
  {
   "cell_type": "code",
   "execution_count": null,
   "id": "f936fc8a-5466-40e3-9380-160b260f3a29",
   "metadata": {},
   "outputs": [],
   "source": []
  },
  {
   "cell_type": "code",
   "execution_count": null,
   "id": "6bf261e8-f6e5-4ad6-b058-d0a3e2866900",
   "metadata": {},
   "outputs": [],
   "source": []
  },
  {
   "cell_type": "code",
   "execution_count": null,
   "id": "3bf788a6-b842-460d-a2b5-fae1c09b8058",
   "metadata": {},
   "outputs": [],
   "source": []
  }
 ],
 "metadata": {
  "kernelspec": {
   "display_name": "Python 3 (ipykernel)",
   "language": "python",
   "name": "python3"
  },
  "language_info": {
   "codemirror_mode": {
    "name": "ipython",
    "version": 3
   },
   "file_extension": ".py",
   "mimetype": "text/x-python",
   "name": "python",
   "nbconvert_exporter": "python",
   "pygments_lexer": "ipython3",
   "version": "3.11.5"
  }
 },
 "nbformat": 4,
 "nbformat_minor": 5
}
