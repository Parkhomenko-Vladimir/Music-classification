{
 "cells": [
  {
   "cell_type": "code",
   "execution_count": 4,
   "id": "ea730c4f-d289-49e0-b943-2dc5dc12b5b9",
   "metadata": {},
   "outputs": [],
   "source": [
    "import pandas as pd\n",
    "import seaborn as sb\n",
    "import phik\n",
    "from phik import resources, report\n",
    "import matplotlib.pyplot as plt"
   ]
  },
  {
   "cell_type": "code",
   "execution_count": 5,
   "id": "d3d3b530-83a1-46ac-9051-e81e385552f5",
   "metadata": {},
   "outputs": [],
   "source": [
    "df_train = pd.read_csv('kaggle_music_genre_train.csv')\n",
    "df_test = pd.read_csv('kaggle_music_genre_test.csv')"
   ]
  },
  {
   "cell_type": "code",
   "execution_count": 6,
   "id": "ff7458f9-8378-4efa-adcf-8bb8a78f2812",
   "metadata": {},
   "outputs": [
    {
     "data": {
      "text/html": [
       "<div>\n",
       "<style scoped>\n",
       "    .dataframe tbody tr th:only-of-type {\n",
       "        vertical-align: middle;\n",
       "    }\n",
       "\n",
       "    .dataframe tbody tr th {\n",
       "        vertical-align: top;\n",
       "    }\n",
       "\n",
       "    .dataframe thead th {\n",
       "        text-align: right;\n",
       "    }\n",
       "</style>\n",
       "<table border=\"1\" class=\"dataframe\">\n",
       "  <thead>\n",
       "    <tr style=\"text-align: right;\">\n",
       "      <th></th>\n",
       "      <th>instance_id</th>\n",
       "      <th>track_name</th>\n",
       "      <th>acousticness</th>\n",
       "      <th>danceability</th>\n",
       "      <th>duration_ms</th>\n",
       "      <th>energy</th>\n",
       "      <th>instrumentalness</th>\n",
       "      <th>key</th>\n",
       "      <th>liveness</th>\n",
       "      <th>loudness</th>\n",
       "      <th>mode</th>\n",
       "      <th>speechiness</th>\n",
       "      <th>tempo</th>\n",
       "      <th>obtained_date</th>\n",
       "      <th>valence</th>\n",
       "      <th>music_genre</th>\n",
       "    </tr>\n",
       "  </thead>\n",
       "  <tbody>\n",
       "    <tr>\n",
       "      <th>0</th>\n",
       "      <td>25143.0</td>\n",
       "      <td>Highwayman</td>\n",
       "      <td>0.48000</td>\n",
       "      <td>0.670</td>\n",
       "      <td>182653.0</td>\n",
       "      <td>0.351</td>\n",
       "      <td>0.017600</td>\n",
       "      <td>D</td>\n",
       "      <td>0.1150</td>\n",
       "      <td>-16.842</td>\n",
       "      <td>Major</td>\n",
       "      <td>0.0463</td>\n",
       "      <td>101.384</td>\n",
       "      <td>4-Apr</td>\n",
       "      <td>0.450</td>\n",
       "      <td>Country</td>\n",
       "    </tr>\n",
       "    <tr>\n",
       "      <th>1</th>\n",
       "      <td>26091.0</td>\n",
       "      <td>Toes Across The Floor</td>\n",
       "      <td>0.24300</td>\n",
       "      <td>0.452</td>\n",
       "      <td>187133.0</td>\n",
       "      <td>0.670</td>\n",
       "      <td>0.000051</td>\n",
       "      <td>A</td>\n",
       "      <td>0.1080</td>\n",
       "      <td>-8.392</td>\n",
       "      <td>Minor</td>\n",
       "      <td>0.0352</td>\n",
       "      <td>113.071</td>\n",
       "      <td>4-Apr</td>\n",
       "      <td>0.539</td>\n",
       "      <td>Rock</td>\n",
       "    </tr>\n",
       "    <tr>\n",
       "      <th>2</th>\n",
       "      <td>87888.0</td>\n",
       "      <td>First Person on Earth</td>\n",
       "      <td>0.22800</td>\n",
       "      <td>0.454</td>\n",
       "      <td>173448.0</td>\n",
       "      <td>0.804</td>\n",
       "      <td>0.000000</td>\n",
       "      <td>E</td>\n",
       "      <td>0.1810</td>\n",
       "      <td>-5.225</td>\n",
       "      <td>Minor</td>\n",
       "      <td>0.3710</td>\n",
       "      <td>80.980</td>\n",
       "      <td>4-Apr</td>\n",
       "      <td>0.344</td>\n",
       "      <td>Alternative</td>\n",
       "    </tr>\n",
       "    <tr>\n",
       "      <th>3</th>\n",
       "      <td>77021.0</td>\n",
       "      <td>No Te Veo - Digital Single</td>\n",
       "      <td>0.05580</td>\n",
       "      <td>0.847</td>\n",
       "      <td>255987.0</td>\n",
       "      <td>0.873</td>\n",
       "      <td>0.000003</td>\n",
       "      <td>G#</td>\n",
       "      <td>0.3250</td>\n",
       "      <td>-4.805</td>\n",
       "      <td>Minor</td>\n",
       "      <td>0.0804</td>\n",
       "      <td>116.007</td>\n",
       "      <td>4-Apr</td>\n",
       "      <td>0.966</td>\n",
       "      <td>Hip-Hop</td>\n",
       "    </tr>\n",
       "    <tr>\n",
       "      <th>4</th>\n",
       "      <td>20852.0</td>\n",
       "      <td>Chasing Shadows</td>\n",
       "      <td>0.22700</td>\n",
       "      <td>0.742</td>\n",
       "      <td>195333.0</td>\n",
       "      <td>0.575</td>\n",
       "      <td>0.000002</td>\n",
       "      <td>C</td>\n",
       "      <td>0.1760</td>\n",
       "      <td>-5.550</td>\n",
       "      <td>Major</td>\n",
       "      <td>0.0487</td>\n",
       "      <td>76.494</td>\n",
       "      <td>4-Apr</td>\n",
       "      <td>0.583</td>\n",
       "      <td>Alternative</td>\n",
       "    </tr>\n",
       "    <tr>\n",
       "      <th>...</th>\n",
       "      <td>...</td>\n",
       "      <td>...</td>\n",
       "      <td>...</td>\n",
       "      <td>...</td>\n",
       "      <td>...</td>\n",
       "      <td>...</td>\n",
       "      <td>...</td>\n",
       "      <td>...</td>\n",
       "      <td>...</td>\n",
       "      <td>...</td>\n",
       "      <td>...</td>\n",
       "      <td>...</td>\n",
       "      <td>...</td>\n",
       "      <td>...</td>\n",
       "      <td>...</td>\n",
       "      <td>...</td>\n",
       "    </tr>\n",
       "    <tr>\n",
       "      <th>20389</th>\n",
       "      <td>47396.0</td>\n",
       "      <td>O Pato</td>\n",
       "      <td>0.71900</td>\n",
       "      <td>0.725</td>\n",
       "      <td>-1.0</td>\n",
       "      <td>0.483</td>\n",
       "      <td>0.000000</td>\n",
       "      <td>NaN</td>\n",
       "      <td>0.0797</td>\n",
       "      <td>-13.314</td>\n",
       "      <td>Minor</td>\n",
       "      <td>0.0438</td>\n",
       "      <td>87.413</td>\n",
       "      <td>4-Apr</td>\n",
       "      <td>0.942</td>\n",
       "      <td>Jazz</td>\n",
       "    </tr>\n",
       "    <tr>\n",
       "      <th>20390</th>\n",
       "      <td>44799.0</td>\n",
       "      <td>Mt. Washington</td>\n",
       "      <td>0.19000</td>\n",
       "      <td>0.482</td>\n",
       "      <td>198933.0</td>\n",
       "      <td>0.362</td>\n",
       "      <td>0.005620</td>\n",
       "      <td>F#</td>\n",
       "      <td>0.0913</td>\n",
       "      <td>-10.358</td>\n",
       "      <td>Minor</td>\n",
       "      <td>0.0299</td>\n",
       "      <td>76.879</td>\n",
       "      <td>4-Apr</td>\n",
       "      <td>0.174</td>\n",
       "      <td>Rock</td>\n",
       "    </tr>\n",
       "    <tr>\n",
       "      <th>20391</th>\n",
       "      <td>33350.0</td>\n",
       "      <td>Original Prankster</td>\n",
       "      <td>0.00061</td>\n",
       "      <td>0.663</td>\n",
       "      <td>220947.0</td>\n",
       "      <td>0.886</td>\n",
       "      <td>0.000025</td>\n",
       "      <td>D</td>\n",
       "      <td>0.2840</td>\n",
       "      <td>-4.149</td>\n",
       "      <td>Major</td>\n",
       "      <td>0.0358</td>\n",
       "      <td>146.803</td>\n",
       "      <td>4-Apr</td>\n",
       "      <td>0.942</td>\n",
       "      <td>Alternative</td>\n",
       "    </tr>\n",
       "    <tr>\n",
       "      <th>20392</th>\n",
       "      <td>77920.0</td>\n",
       "      <td>4Peat</td>\n",
       "      <td>0.00310</td>\n",
       "      <td>0.914</td>\n",
       "      <td>162214.0</td>\n",
       "      <td>0.515</td>\n",
       "      <td>0.000000</td>\n",
       "      <td>C#</td>\n",
       "      <td>0.1050</td>\n",
       "      <td>-9.934</td>\n",
       "      <td>Major</td>\n",
       "      <td>0.3560</td>\n",
       "      <td>150.016</td>\n",
       "      <td>4-Apr</td>\n",
       "      <td>0.215</td>\n",
       "      <td>Rap</td>\n",
       "    </tr>\n",
       "    <tr>\n",
       "      <th>20393</th>\n",
       "      <td>86375.0</td>\n",
       "      <td>Trouble (feat. MC Spyder)</td>\n",
       "      <td>0.05350</td>\n",
       "      <td>0.717</td>\n",
       "      <td>271885.0</td>\n",
       "      <td>0.983</td>\n",
       "      <td>0.491000</td>\n",
       "      <td>D#</td>\n",
       "      <td>0.1080</td>\n",
       "      <td>-1.615</td>\n",
       "      <td>Minor</td>\n",
       "      <td>0.0942</td>\n",
       "      <td>128.004</td>\n",
       "      <td>4-Apr</td>\n",
       "      <td>0.077</td>\n",
       "      <td>Electronic</td>\n",
       "    </tr>\n",
       "  </tbody>\n",
       "</table>\n",
       "<p>20394 rows × 16 columns</p>\n",
       "</div>"
      ],
      "text/plain": [
       "       instance_id                  track_name  acousticness  danceability  \\\n",
       "0          25143.0                  Highwayman       0.48000         0.670   \n",
       "1          26091.0       Toes Across The Floor       0.24300         0.452   \n",
       "2          87888.0       First Person on Earth       0.22800         0.454   \n",
       "3          77021.0  No Te Veo - Digital Single       0.05580         0.847   \n",
       "4          20852.0             Chasing Shadows       0.22700         0.742   \n",
       "...            ...                         ...           ...           ...   \n",
       "20389      47396.0                      O Pato       0.71900         0.725   \n",
       "20390      44799.0              Mt. Washington       0.19000         0.482   \n",
       "20391      33350.0          Original Prankster       0.00061         0.663   \n",
       "20392      77920.0                       4Peat       0.00310         0.914   \n",
       "20393      86375.0   Trouble (feat. MC Spyder)       0.05350         0.717   \n",
       "\n",
       "       duration_ms  energy  instrumentalness  key  liveness  loudness   mode  \\\n",
       "0         182653.0   0.351          0.017600    D    0.1150   -16.842  Major   \n",
       "1         187133.0   0.670          0.000051    A    0.1080    -8.392  Minor   \n",
       "2         173448.0   0.804          0.000000    E    0.1810    -5.225  Minor   \n",
       "3         255987.0   0.873          0.000003   G#    0.3250    -4.805  Minor   \n",
       "4         195333.0   0.575          0.000002    C    0.1760    -5.550  Major   \n",
       "...            ...     ...               ...  ...       ...       ...    ...   \n",
       "20389         -1.0   0.483          0.000000  NaN    0.0797   -13.314  Minor   \n",
       "20390     198933.0   0.362          0.005620   F#    0.0913   -10.358  Minor   \n",
       "20391     220947.0   0.886          0.000025    D    0.2840    -4.149  Major   \n",
       "20392     162214.0   0.515          0.000000   C#    0.1050    -9.934  Major   \n",
       "20393     271885.0   0.983          0.491000   D#    0.1080    -1.615  Minor   \n",
       "\n",
       "       speechiness    tempo obtained_date  valence  music_genre  \n",
       "0           0.0463  101.384         4-Apr    0.450      Country  \n",
       "1           0.0352  113.071         4-Apr    0.539         Rock  \n",
       "2           0.3710   80.980         4-Apr    0.344  Alternative  \n",
       "3           0.0804  116.007         4-Apr    0.966      Hip-Hop  \n",
       "4           0.0487   76.494         4-Apr    0.583  Alternative  \n",
       "...            ...      ...           ...      ...          ...  \n",
       "20389       0.0438   87.413         4-Apr    0.942         Jazz  \n",
       "20390       0.0299   76.879         4-Apr    0.174         Rock  \n",
       "20391       0.0358  146.803         4-Apr    0.942  Alternative  \n",
       "20392       0.3560  150.016         4-Apr    0.215          Rap  \n",
       "20393       0.0942  128.004         4-Apr    0.077   Electronic  \n",
       "\n",
       "[20394 rows x 16 columns]"
      ]
     },
     "execution_count": 6,
     "metadata": {},
     "output_type": "execute_result"
    }
   ],
   "source": [
    "df_train"
   ]
  },
  {
   "cell_type": "code",
   "execution_count": 7,
   "id": "bc6b82ce-3f08-43bc-af19-0cdebce24802",
   "metadata": {},
   "outputs": [
    {
     "data": {
      "text/html": [
       "<div>\n",
       "<style scoped>\n",
       "    .dataframe tbody tr th:only-of-type {\n",
       "        vertical-align: middle;\n",
       "    }\n",
       "\n",
       "    .dataframe tbody tr th {\n",
       "        vertical-align: top;\n",
       "    }\n",
       "\n",
       "    .dataframe thead th {\n",
       "        text-align: right;\n",
       "    }\n",
       "</style>\n",
       "<table border=\"1\" class=\"dataframe\">\n",
       "  <thead>\n",
       "    <tr style=\"text-align: right;\">\n",
       "      <th></th>\n",
       "      <th>instance_id</th>\n",
       "      <th>track_name</th>\n",
       "      <th>acousticness</th>\n",
       "      <th>danceability</th>\n",
       "      <th>duration_ms</th>\n",
       "      <th>energy</th>\n",
       "      <th>instrumentalness</th>\n",
       "      <th>key</th>\n",
       "      <th>liveness</th>\n",
       "      <th>loudness</th>\n",
       "      <th>mode</th>\n",
       "      <th>speechiness</th>\n",
       "      <th>tempo</th>\n",
       "      <th>obtained_date</th>\n",
       "      <th>valence</th>\n",
       "    </tr>\n",
       "  </thead>\n",
       "  <tbody>\n",
       "    <tr>\n",
       "      <th>0</th>\n",
       "      <td>48564</td>\n",
       "      <td>Low Class Conspiracy</td>\n",
       "      <td>0.301000</td>\n",
       "      <td>0.757</td>\n",
       "      <td>146213.0</td>\n",
       "      <td>0.679</td>\n",
       "      <td>0.00000</td>\n",
       "      <td>A#</td>\n",
       "      <td>0.3030</td>\n",
       "      <td>-7.136</td>\n",
       "      <td>Minor</td>\n",
       "      <td>0.3560</td>\n",
       "      <td>90.361</td>\n",
       "      <td>4-Apr</td>\n",
       "      <td>0.895</td>\n",
       "    </tr>\n",
       "    <tr>\n",
       "      <th>1</th>\n",
       "      <td>72394</td>\n",
       "      <td>The Hunter</td>\n",
       "      <td>0.538000</td>\n",
       "      <td>0.256</td>\n",
       "      <td>240360.0</td>\n",
       "      <td>0.523</td>\n",
       "      <td>0.00832</td>\n",
       "      <td>G#</td>\n",
       "      <td>0.0849</td>\n",
       "      <td>-5.175</td>\n",
       "      <td>Major</td>\n",
       "      <td>0.0294</td>\n",
       "      <td>78.385</td>\n",
       "      <td>4-Apr</td>\n",
       "      <td>0.318</td>\n",
       "    </tr>\n",
       "    <tr>\n",
       "      <th>2</th>\n",
       "      <td>88081</td>\n",
       "      <td>Hate Me Now</td>\n",
       "      <td>0.005830</td>\n",
       "      <td>0.678</td>\n",
       "      <td>284000.0</td>\n",
       "      <td>0.770</td>\n",
       "      <td>0.00000</td>\n",
       "      <td>A</td>\n",
       "      <td>0.1090</td>\n",
       "      <td>-4.399</td>\n",
       "      <td>Minor</td>\n",
       "      <td>0.2220</td>\n",
       "      <td>90.000</td>\n",
       "      <td>4-Apr</td>\n",
       "      <td>0.412</td>\n",
       "    </tr>\n",
       "    <tr>\n",
       "      <th>3</th>\n",
       "      <td>78331</td>\n",
       "      <td>Somebody Ain't You</td>\n",
       "      <td>0.020300</td>\n",
       "      <td>0.592</td>\n",
       "      <td>177354.0</td>\n",
       "      <td>0.749</td>\n",
       "      <td>0.00000</td>\n",
       "      <td>B</td>\n",
       "      <td>0.1220</td>\n",
       "      <td>-4.604</td>\n",
       "      <td>Major</td>\n",
       "      <td>0.0483</td>\n",
       "      <td>160.046</td>\n",
       "      <td>4-Apr</td>\n",
       "      <td>0.614</td>\n",
       "    </tr>\n",
       "    <tr>\n",
       "      <th>4</th>\n",
       "      <td>72636</td>\n",
       "      <td>Sour Mango</td>\n",
       "      <td>0.000335</td>\n",
       "      <td>0.421</td>\n",
       "      <td>-1.0</td>\n",
       "      <td>0.447</td>\n",
       "      <td>0.01480</td>\n",
       "      <td>D</td>\n",
       "      <td>0.0374</td>\n",
       "      <td>-8.833</td>\n",
       "      <td>Major</td>\n",
       "      <td>0.2020</td>\n",
       "      <td>73.830</td>\n",
       "      <td>4-Apr</td>\n",
       "      <td>0.121</td>\n",
       "    </tr>\n",
       "    <tr>\n",
       "      <th>...</th>\n",
       "      <td>...</td>\n",
       "      <td>...</td>\n",
       "      <td>...</td>\n",
       "      <td>...</td>\n",
       "      <td>...</td>\n",
       "      <td>...</td>\n",
       "      <td>...</td>\n",
       "      <td>...</td>\n",
       "      <td>...</td>\n",
       "      <td>...</td>\n",
       "      <td>...</td>\n",
       "      <td>...</td>\n",
       "      <td>...</td>\n",
       "      <td>...</td>\n",
       "      <td>...</td>\n",
       "    </tr>\n",
       "    <tr>\n",
       "      <th>5094</th>\n",
       "      <td>50532</td>\n",
       "      <td>What We Gonna Do About It</td>\n",
       "      <td>0.108000</td>\n",
       "      <td>0.558</td>\n",
       "      <td>163049.0</td>\n",
       "      <td>0.767</td>\n",
       "      <td>0.00000</td>\n",
       "      <td>E</td>\n",
       "      <td>0.0954</td>\n",
       "      <td>-4.561</td>\n",
       "      <td>Minor</td>\n",
       "      <td>0.0491</td>\n",
       "      <td>158.019</td>\n",
       "      <td>4-Apr</td>\n",
       "      <td>0.715</td>\n",
       "    </tr>\n",
       "    <tr>\n",
       "      <th>5095</th>\n",
       "      <td>26255</td>\n",
       "      <td>Marilyn (feat. Dominique Le Jeune)</td>\n",
       "      <td>0.131000</td>\n",
       "      <td>0.435</td>\n",
       "      <td>196216.0</td>\n",
       "      <td>0.641</td>\n",
       "      <td>0.00000</td>\n",
       "      <td>A#</td>\n",
       "      <td>0.2730</td>\n",
       "      <td>-7.274</td>\n",
       "      <td>Major</td>\n",
       "      <td>0.1040</td>\n",
       "      <td>115.534</td>\n",
       "      <td>3-Apr</td>\n",
       "      <td>0.156</td>\n",
       "    </tr>\n",
       "    <tr>\n",
       "      <th>5096</th>\n",
       "      <td>67924</td>\n",
       "      <td>Bipolar</td>\n",
       "      <td>0.152000</td>\n",
       "      <td>0.756</td>\n",
       "      <td>243373.0</td>\n",
       "      <td>0.787</td>\n",
       "      <td>0.00000</td>\n",
       "      <td>D</td>\n",
       "      <td>0.2050</td>\n",
       "      <td>-7.423</td>\n",
       "      <td>Major</td>\n",
       "      <td>0.2400</td>\n",
       "      <td>123.405</td>\n",
       "      <td>4-Apr</td>\n",
       "      <td>0.459</td>\n",
       "    </tr>\n",
       "    <tr>\n",
       "      <th>5097</th>\n",
       "      <td>79778</td>\n",
       "      <td>Dead - NGHTMRE Remix</td>\n",
       "      <td>0.001450</td>\n",
       "      <td>0.489</td>\n",
       "      <td>185600.0</td>\n",
       "      <td>0.974</td>\n",
       "      <td>0.63800</td>\n",
       "      <td>F#</td>\n",
       "      <td>0.1230</td>\n",
       "      <td>-2.857</td>\n",
       "      <td>Minor</td>\n",
       "      <td>0.0381</td>\n",
       "      <td>150.036</td>\n",
       "      <td>4-Apr</td>\n",
       "      <td>0.665</td>\n",
       "    </tr>\n",
       "    <tr>\n",
       "      <th>5098</th>\n",
       "      <td>47986</td>\n",
       "      <td>A Night In Tunisia - Remastered 1998 / Rudy Va...</td>\n",
       "      <td>0.715000</td>\n",
       "      <td>0.538</td>\n",
       "      <td>256800.0</td>\n",
       "      <td>0.520</td>\n",
       "      <td>0.01750</td>\n",
       "      <td>G</td>\n",
       "      <td>0.0676</td>\n",
       "      <td>-10.127</td>\n",
       "      <td>Minor</td>\n",
       "      <td>0.0408</td>\n",
       "      <td>83.816</td>\n",
       "      <td>4-Apr</td>\n",
       "      <td>0.764</td>\n",
       "    </tr>\n",
       "  </tbody>\n",
       "</table>\n",
       "<p>5099 rows × 15 columns</p>\n",
       "</div>"
      ],
      "text/plain": [
       "      instance_id                                         track_name  \\\n",
       "0           48564                               Low Class Conspiracy   \n",
       "1           72394                                         The Hunter   \n",
       "2           88081                                        Hate Me Now   \n",
       "3           78331                                 Somebody Ain't You   \n",
       "4           72636                                         Sour Mango   \n",
       "...           ...                                                ...   \n",
       "5094        50532                          What We Gonna Do About It   \n",
       "5095        26255                 Marilyn (feat. Dominique Le Jeune)   \n",
       "5096        67924                                            Bipolar   \n",
       "5097        79778                               Dead - NGHTMRE Remix   \n",
       "5098        47986  A Night In Tunisia - Remastered 1998 / Rudy Va...   \n",
       "\n",
       "      acousticness  danceability  duration_ms  energy  instrumentalness key  \\\n",
       "0         0.301000         0.757     146213.0   0.679           0.00000  A#   \n",
       "1         0.538000         0.256     240360.0   0.523           0.00832  G#   \n",
       "2         0.005830         0.678     284000.0   0.770           0.00000   A   \n",
       "3         0.020300         0.592     177354.0   0.749           0.00000   B   \n",
       "4         0.000335         0.421         -1.0   0.447           0.01480   D   \n",
       "...            ...           ...          ...     ...               ...  ..   \n",
       "5094      0.108000         0.558     163049.0   0.767           0.00000   E   \n",
       "5095      0.131000         0.435     196216.0   0.641           0.00000  A#   \n",
       "5096      0.152000         0.756     243373.0   0.787           0.00000   D   \n",
       "5097      0.001450         0.489     185600.0   0.974           0.63800  F#   \n",
       "5098      0.715000         0.538     256800.0   0.520           0.01750   G   \n",
       "\n",
       "      liveness  loudness   mode  speechiness    tempo obtained_date  valence  \n",
       "0       0.3030    -7.136  Minor       0.3560   90.361         4-Apr    0.895  \n",
       "1       0.0849    -5.175  Major       0.0294   78.385         4-Apr    0.318  \n",
       "2       0.1090    -4.399  Minor       0.2220   90.000         4-Apr    0.412  \n",
       "3       0.1220    -4.604  Major       0.0483  160.046         4-Apr    0.614  \n",
       "4       0.0374    -8.833  Major       0.2020   73.830         4-Apr    0.121  \n",
       "...        ...       ...    ...          ...      ...           ...      ...  \n",
       "5094    0.0954    -4.561  Minor       0.0491  158.019         4-Apr    0.715  \n",
       "5095    0.2730    -7.274  Major       0.1040  115.534         3-Apr    0.156  \n",
       "5096    0.2050    -7.423  Major       0.2400  123.405         4-Apr    0.459  \n",
       "5097    0.1230    -2.857  Minor       0.0381  150.036         4-Apr    0.665  \n",
       "5098    0.0676   -10.127  Minor       0.0408   83.816         4-Apr    0.764  \n",
       "\n",
       "[5099 rows x 15 columns]"
      ]
     },
     "execution_count": 7,
     "metadata": {},
     "output_type": "execute_result"
    }
   ],
   "source": [
    "df_test"
   ]
  },
  {
   "cell_type": "code",
   "execution_count": 8,
   "id": "1aaeef2c-54bf-47d3-95a4-df00e8a9c01b",
   "metadata": {},
   "outputs": [
    {
     "name": "stdout",
     "output_type": "stream",
     "text": [
      "<class 'pandas.core.frame.DataFrame'>\n",
      "RangeIndex: 20394 entries, 0 to 20393\n",
      "Data columns (total 16 columns):\n",
      " #   Column            Non-Null Count  Dtype  \n",
      "---  ------            --------------  -----  \n",
      " 0   instance_id       20394 non-null  float64\n",
      " 1   track_name        20394 non-null  object \n",
      " 2   acousticness      20394 non-null  float64\n",
      " 3   danceability      20394 non-null  float64\n",
      " 4   duration_ms       20394 non-null  float64\n",
      " 5   energy            20394 non-null  float64\n",
      " 6   instrumentalness  20394 non-null  float64\n",
      " 7   key               19659 non-null  object \n",
      " 8   liveness          20394 non-null  float64\n",
      " 9   loudness          20394 non-null  float64\n",
      " 10  mode              19888 non-null  object \n",
      " 11  speechiness       20394 non-null  float64\n",
      " 12  tempo             19952 non-null  float64\n",
      " 13  obtained_date     20394 non-null  object \n",
      " 14  valence           20394 non-null  float64\n",
      " 15  music_genre       20394 non-null  object \n",
      "dtypes: float64(11), object(5)\n",
      "memory usage: 2.5+ MB\n"
     ]
    }
   ],
   "source": [
    "df_train.info()"
   ]
  },
  {
   "cell_type": "code",
   "execution_count": 9,
   "id": "bb6cc691-ca31-496d-9f63-d3bc32d40a49",
   "metadata": {},
   "outputs": [
    {
     "name": "stdout",
     "output_type": "stream",
     "text": [
      "<class 'pandas.core.frame.DataFrame'>\n",
      "RangeIndex: 5099 entries, 0 to 5098\n",
      "Data columns (total 15 columns):\n",
      " #   Column            Non-Null Count  Dtype  \n",
      "---  ------            --------------  -----  \n",
      " 0   instance_id       5099 non-null   int64  \n",
      " 1   track_name        5099 non-null   object \n",
      " 2   acousticness      5099 non-null   float64\n",
      " 3   danceability      5099 non-null   float64\n",
      " 4   duration_ms       5099 non-null   float64\n",
      " 5   energy            5099 non-null   float64\n",
      " 6   instrumentalness  5099 non-null   float64\n",
      " 7   key               4941 non-null   object \n",
      " 8   liveness          5099 non-null   float64\n",
      " 9   loudness          5099 non-null   float64\n",
      " 10  mode              4950 non-null   object \n",
      " 11  speechiness       5099 non-null   float64\n",
      " 12  tempo             4978 non-null   float64\n",
      " 13  obtained_date     5099 non-null   object \n",
      " 14  valence           5099 non-null   float64\n",
      "dtypes: float64(10), int64(1), object(4)\n",
      "memory usage: 597.7+ KB\n"
     ]
    }
   ],
   "source": [
    "df_test.info()"
   ]
  },
  {
   "cell_type": "markdown",
   "id": "6dc86809-b370-4592-a2b5-63c220343588",
   "metadata": {},
   "source": [
    "Я считаю, что instance_id , track_name, obtained_date надо выбросить"
   ]
  },
  {
   "cell_type": "code",
   "execution_count": 10,
   "id": "def26d51-0f09-4db9-b162-6f779f0e7201",
   "metadata": {},
   "outputs": [
    {
     "data": {
      "text/html": [
       "<div>\n",
       "<style scoped>\n",
       "    .dataframe tbody tr th:only-of-type {\n",
       "        vertical-align: middle;\n",
       "    }\n",
       "\n",
       "    .dataframe tbody tr th {\n",
       "        vertical-align: top;\n",
       "    }\n",
       "\n",
       "    .dataframe thead th {\n",
       "        text-align: right;\n",
       "    }\n",
       "</style>\n",
       "<table border=\"1\" class=\"dataframe\">\n",
       "  <thead>\n",
       "    <tr style=\"text-align: right;\">\n",
       "      <th></th>\n",
       "      <th>acousticness</th>\n",
       "      <th>danceability</th>\n",
       "      <th>duration_ms</th>\n",
       "      <th>energy</th>\n",
       "      <th>instrumentalness</th>\n",
       "      <th>key</th>\n",
       "      <th>liveness</th>\n",
       "      <th>loudness</th>\n",
       "      <th>mode</th>\n",
       "      <th>speechiness</th>\n",
       "      <th>tempo</th>\n",
       "      <th>valence</th>\n",
       "      <th>music_genre</th>\n",
       "    </tr>\n",
       "  </thead>\n",
       "  <tbody>\n",
       "    <tr>\n",
       "      <th>0</th>\n",
       "      <td>0.48000</td>\n",
       "      <td>0.670</td>\n",
       "      <td>182653.0</td>\n",
       "      <td>0.351</td>\n",
       "      <td>0.017600</td>\n",
       "      <td>D</td>\n",
       "      <td>0.1150</td>\n",
       "      <td>-16.842</td>\n",
       "      <td>Major</td>\n",
       "      <td>0.0463</td>\n",
       "      <td>101.384</td>\n",
       "      <td>0.450</td>\n",
       "      <td>Country</td>\n",
       "    </tr>\n",
       "    <tr>\n",
       "      <th>1</th>\n",
       "      <td>0.24300</td>\n",
       "      <td>0.452</td>\n",
       "      <td>187133.0</td>\n",
       "      <td>0.670</td>\n",
       "      <td>0.000051</td>\n",
       "      <td>A</td>\n",
       "      <td>0.1080</td>\n",
       "      <td>-8.392</td>\n",
       "      <td>Minor</td>\n",
       "      <td>0.0352</td>\n",
       "      <td>113.071</td>\n",
       "      <td>0.539</td>\n",
       "      <td>Rock</td>\n",
       "    </tr>\n",
       "    <tr>\n",
       "      <th>2</th>\n",
       "      <td>0.22800</td>\n",
       "      <td>0.454</td>\n",
       "      <td>173448.0</td>\n",
       "      <td>0.804</td>\n",
       "      <td>0.000000</td>\n",
       "      <td>E</td>\n",
       "      <td>0.1810</td>\n",
       "      <td>-5.225</td>\n",
       "      <td>Minor</td>\n",
       "      <td>0.3710</td>\n",
       "      <td>80.980</td>\n",
       "      <td>0.344</td>\n",
       "      <td>Alternative</td>\n",
       "    </tr>\n",
       "    <tr>\n",
       "      <th>3</th>\n",
       "      <td>0.05580</td>\n",
       "      <td>0.847</td>\n",
       "      <td>255987.0</td>\n",
       "      <td>0.873</td>\n",
       "      <td>0.000003</td>\n",
       "      <td>G#</td>\n",
       "      <td>0.3250</td>\n",
       "      <td>-4.805</td>\n",
       "      <td>Minor</td>\n",
       "      <td>0.0804</td>\n",
       "      <td>116.007</td>\n",
       "      <td>0.966</td>\n",
       "      <td>Hip-Hop</td>\n",
       "    </tr>\n",
       "    <tr>\n",
       "      <th>4</th>\n",
       "      <td>0.22700</td>\n",
       "      <td>0.742</td>\n",
       "      <td>195333.0</td>\n",
       "      <td>0.575</td>\n",
       "      <td>0.000002</td>\n",
       "      <td>C</td>\n",
       "      <td>0.1760</td>\n",
       "      <td>-5.550</td>\n",
       "      <td>Major</td>\n",
       "      <td>0.0487</td>\n",
       "      <td>76.494</td>\n",
       "      <td>0.583</td>\n",
       "      <td>Alternative</td>\n",
       "    </tr>\n",
       "    <tr>\n",
       "      <th>...</th>\n",
       "      <td>...</td>\n",
       "      <td>...</td>\n",
       "      <td>...</td>\n",
       "      <td>...</td>\n",
       "      <td>...</td>\n",
       "      <td>...</td>\n",
       "      <td>...</td>\n",
       "      <td>...</td>\n",
       "      <td>...</td>\n",
       "      <td>...</td>\n",
       "      <td>...</td>\n",
       "      <td>...</td>\n",
       "      <td>...</td>\n",
       "    </tr>\n",
       "    <tr>\n",
       "      <th>20389</th>\n",
       "      <td>0.71900</td>\n",
       "      <td>0.725</td>\n",
       "      <td>-1.0</td>\n",
       "      <td>0.483</td>\n",
       "      <td>0.000000</td>\n",
       "      <td>NaN</td>\n",
       "      <td>0.0797</td>\n",
       "      <td>-13.314</td>\n",
       "      <td>Minor</td>\n",
       "      <td>0.0438</td>\n",
       "      <td>87.413</td>\n",
       "      <td>0.942</td>\n",
       "      <td>Jazz</td>\n",
       "    </tr>\n",
       "    <tr>\n",
       "      <th>20390</th>\n",
       "      <td>0.19000</td>\n",
       "      <td>0.482</td>\n",
       "      <td>198933.0</td>\n",
       "      <td>0.362</td>\n",
       "      <td>0.005620</td>\n",
       "      <td>F#</td>\n",
       "      <td>0.0913</td>\n",
       "      <td>-10.358</td>\n",
       "      <td>Minor</td>\n",
       "      <td>0.0299</td>\n",
       "      <td>76.879</td>\n",
       "      <td>0.174</td>\n",
       "      <td>Rock</td>\n",
       "    </tr>\n",
       "    <tr>\n",
       "      <th>20391</th>\n",
       "      <td>0.00061</td>\n",
       "      <td>0.663</td>\n",
       "      <td>220947.0</td>\n",
       "      <td>0.886</td>\n",
       "      <td>0.000025</td>\n",
       "      <td>D</td>\n",
       "      <td>0.2840</td>\n",
       "      <td>-4.149</td>\n",
       "      <td>Major</td>\n",
       "      <td>0.0358</td>\n",
       "      <td>146.803</td>\n",
       "      <td>0.942</td>\n",
       "      <td>Alternative</td>\n",
       "    </tr>\n",
       "    <tr>\n",
       "      <th>20392</th>\n",
       "      <td>0.00310</td>\n",
       "      <td>0.914</td>\n",
       "      <td>162214.0</td>\n",
       "      <td>0.515</td>\n",
       "      <td>0.000000</td>\n",
       "      <td>C#</td>\n",
       "      <td>0.1050</td>\n",
       "      <td>-9.934</td>\n",
       "      <td>Major</td>\n",
       "      <td>0.3560</td>\n",
       "      <td>150.016</td>\n",
       "      <td>0.215</td>\n",
       "      <td>Rap</td>\n",
       "    </tr>\n",
       "    <tr>\n",
       "      <th>20393</th>\n",
       "      <td>0.05350</td>\n",
       "      <td>0.717</td>\n",
       "      <td>271885.0</td>\n",
       "      <td>0.983</td>\n",
       "      <td>0.491000</td>\n",
       "      <td>D#</td>\n",
       "      <td>0.1080</td>\n",
       "      <td>-1.615</td>\n",
       "      <td>Minor</td>\n",
       "      <td>0.0942</td>\n",
       "      <td>128.004</td>\n",
       "      <td>0.077</td>\n",
       "      <td>Electronic</td>\n",
       "    </tr>\n",
       "  </tbody>\n",
       "</table>\n",
       "<p>20394 rows × 13 columns</p>\n",
       "</div>"
      ],
      "text/plain": [
       "       acousticness  danceability  duration_ms  energy  instrumentalness  key  \\\n",
       "0           0.48000         0.670     182653.0   0.351          0.017600    D   \n",
       "1           0.24300         0.452     187133.0   0.670          0.000051    A   \n",
       "2           0.22800         0.454     173448.0   0.804          0.000000    E   \n",
       "3           0.05580         0.847     255987.0   0.873          0.000003   G#   \n",
       "4           0.22700         0.742     195333.0   0.575          0.000002    C   \n",
       "...             ...           ...          ...     ...               ...  ...   \n",
       "20389       0.71900         0.725         -1.0   0.483          0.000000  NaN   \n",
       "20390       0.19000         0.482     198933.0   0.362          0.005620   F#   \n",
       "20391       0.00061         0.663     220947.0   0.886          0.000025    D   \n",
       "20392       0.00310         0.914     162214.0   0.515          0.000000   C#   \n",
       "20393       0.05350         0.717     271885.0   0.983          0.491000   D#   \n",
       "\n",
       "       liveness  loudness   mode  speechiness    tempo  valence  music_genre  \n",
       "0        0.1150   -16.842  Major       0.0463  101.384    0.450      Country  \n",
       "1        0.1080    -8.392  Minor       0.0352  113.071    0.539         Rock  \n",
       "2        0.1810    -5.225  Minor       0.3710   80.980    0.344  Alternative  \n",
       "3        0.3250    -4.805  Minor       0.0804  116.007    0.966      Hip-Hop  \n",
       "4        0.1760    -5.550  Major       0.0487   76.494    0.583  Alternative  \n",
       "...         ...       ...    ...          ...      ...      ...          ...  \n",
       "20389    0.0797   -13.314  Minor       0.0438   87.413    0.942         Jazz  \n",
       "20390    0.0913   -10.358  Minor       0.0299   76.879    0.174         Rock  \n",
       "20391    0.2840    -4.149  Major       0.0358  146.803    0.942  Alternative  \n",
       "20392    0.1050    -9.934  Major       0.3560  150.016    0.215          Rap  \n",
       "20393    0.1080    -1.615  Minor       0.0942  128.004    0.077   Electronic  \n",
       "\n",
       "[20394 rows x 13 columns]"
      ]
     },
     "execution_count": 10,
     "metadata": {},
     "output_type": "execute_result"
    }
   ],
   "source": [
    "df_train = df_train.drop(['instance_id', 'track_name', 'obtained_date'], axis =1)\n",
    "df_train"
   ]
  },
  {
   "cell_type": "code",
   "execution_count": 11,
   "id": "a015f891-b561-432b-830b-2c2367d488f3",
   "metadata": {},
   "outputs": [
    {
     "data": {
      "text/html": [
       "<div>\n",
       "<style scoped>\n",
       "    .dataframe tbody tr th:only-of-type {\n",
       "        vertical-align: middle;\n",
       "    }\n",
       "\n",
       "    .dataframe tbody tr th {\n",
       "        vertical-align: top;\n",
       "    }\n",
       "\n",
       "    .dataframe thead th {\n",
       "        text-align: right;\n",
       "    }\n",
       "</style>\n",
       "<table border=\"1\" class=\"dataframe\">\n",
       "  <thead>\n",
       "    <tr style=\"text-align: right;\">\n",
       "      <th></th>\n",
       "      <th>acousticness</th>\n",
       "      <th>danceability</th>\n",
       "      <th>duration_ms</th>\n",
       "      <th>energy</th>\n",
       "      <th>instrumentalness</th>\n",
       "      <th>key</th>\n",
       "      <th>liveness</th>\n",
       "      <th>loudness</th>\n",
       "      <th>mode</th>\n",
       "      <th>speechiness</th>\n",
       "      <th>tempo</th>\n",
       "      <th>valence</th>\n",
       "    </tr>\n",
       "  </thead>\n",
       "  <tbody>\n",
       "    <tr>\n",
       "      <th>0</th>\n",
       "      <td>0.301000</td>\n",
       "      <td>0.757</td>\n",
       "      <td>146213.0</td>\n",
       "      <td>0.679</td>\n",
       "      <td>0.00000</td>\n",
       "      <td>A#</td>\n",
       "      <td>0.3030</td>\n",
       "      <td>-7.136</td>\n",
       "      <td>Minor</td>\n",
       "      <td>0.3560</td>\n",
       "      <td>90.361</td>\n",
       "      <td>0.895</td>\n",
       "    </tr>\n",
       "    <tr>\n",
       "      <th>1</th>\n",
       "      <td>0.538000</td>\n",
       "      <td>0.256</td>\n",
       "      <td>240360.0</td>\n",
       "      <td>0.523</td>\n",
       "      <td>0.00832</td>\n",
       "      <td>G#</td>\n",
       "      <td>0.0849</td>\n",
       "      <td>-5.175</td>\n",
       "      <td>Major</td>\n",
       "      <td>0.0294</td>\n",
       "      <td>78.385</td>\n",
       "      <td>0.318</td>\n",
       "    </tr>\n",
       "    <tr>\n",
       "      <th>2</th>\n",
       "      <td>0.005830</td>\n",
       "      <td>0.678</td>\n",
       "      <td>284000.0</td>\n",
       "      <td>0.770</td>\n",
       "      <td>0.00000</td>\n",
       "      <td>A</td>\n",
       "      <td>0.1090</td>\n",
       "      <td>-4.399</td>\n",
       "      <td>Minor</td>\n",
       "      <td>0.2220</td>\n",
       "      <td>90.000</td>\n",
       "      <td>0.412</td>\n",
       "    </tr>\n",
       "    <tr>\n",
       "      <th>3</th>\n",
       "      <td>0.020300</td>\n",
       "      <td>0.592</td>\n",
       "      <td>177354.0</td>\n",
       "      <td>0.749</td>\n",
       "      <td>0.00000</td>\n",
       "      <td>B</td>\n",
       "      <td>0.1220</td>\n",
       "      <td>-4.604</td>\n",
       "      <td>Major</td>\n",
       "      <td>0.0483</td>\n",
       "      <td>160.046</td>\n",
       "      <td>0.614</td>\n",
       "    </tr>\n",
       "    <tr>\n",
       "      <th>4</th>\n",
       "      <td>0.000335</td>\n",
       "      <td>0.421</td>\n",
       "      <td>-1.0</td>\n",
       "      <td>0.447</td>\n",
       "      <td>0.01480</td>\n",
       "      <td>D</td>\n",
       "      <td>0.0374</td>\n",
       "      <td>-8.833</td>\n",
       "      <td>Major</td>\n",
       "      <td>0.2020</td>\n",
       "      <td>73.830</td>\n",
       "      <td>0.121</td>\n",
       "    </tr>\n",
       "    <tr>\n",
       "      <th>...</th>\n",
       "      <td>...</td>\n",
       "      <td>...</td>\n",
       "      <td>...</td>\n",
       "      <td>...</td>\n",
       "      <td>...</td>\n",
       "      <td>...</td>\n",
       "      <td>...</td>\n",
       "      <td>...</td>\n",
       "      <td>...</td>\n",
       "      <td>...</td>\n",
       "      <td>...</td>\n",
       "      <td>...</td>\n",
       "    </tr>\n",
       "    <tr>\n",
       "      <th>5094</th>\n",
       "      <td>0.108000</td>\n",
       "      <td>0.558</td>\n",
       "      <td>163049.0</td>\n",
       "      <td>0.767</td>\n",
       "      <td>0.00000</td>\n",
       "      <td>E</td>\n",
       "      <td>0.0954</td>\n",
       "      <td>-4.561</td>\n",
       "      <td>Minor</td>\n",
       "      <td>0.0491</td>\n",
       "      <td>158.019</td>\n",
       "      <td>0.715</td>\n",
       "    </tr>\n",
       "    <tr>\n",
       "      <th>5095</th>\n",
       "      <td>0.131000</td>\n",
       "      <td>0.435</td>\n",
       "      <td>196216.0</td>\n",
       "      <td>0.641</td>\n",
       "      <td>0.00000</td>\n",
       "      <td>A#</td>\n",
       "      <td>0.2730</td>\n",
       "      <td>-7.274</td>\n",
       "      <td>Major</td>\n",
       "      <td>0.1040</td>\n",
       "      <td>115.534</td>\n",
       "      <td>0.156</td>\n",
       "    </tr>\n",
       "    <tr>\n",
       "      <th>5096</th>\n",
       "      <td>0.152000</td>\n",
       "      <td>0.756</td>\n",
       "      <td>243373.0</td>\n",
       "      <td>0.787</td>\n",
       "      <td>0.00000</td>\n",
       "      <td>D</td>\n",
       "      <td>0.2050</td>\n",
       "      <td>-7.423</td>\n",
       "      <td>Major</td>\n",
       "      <td>0.2400</td>\n",
       "      <td>123.405</td>\n",
       "      <td>0.459</td>\n",
       "    </tr>\n",
       "    <tr>\n",
       "      <th>5097</th>\n",
       "      <td>0.001450</td>\n",
       "      <td>0.489</td>\n",
       "      <td>185600.0</td>\n",
       "      <td>0.974</td>\n",
       "      <td>0.63800</td>\n",
       "      <td>F#</td>\n",
       "      <td>0.1230</td>\n",
       "      <td>-2.857</td>\n",
       "      <td>Minor</td>\n",
       "      <td>0.0381</td>\n",
       "      <td>150.036</td>\n",
       "      <td>0.665</td>\n",
       "    </tr>\n",
       "    <tr>\n",
       "      <th>5098</th>\n",
       "      <td>0.715000</td>\n",
       "      <td>0.538</td>\n",
       "      <td>256800.0</td>\n",
       "      <td>0.520</td>\n",
       "      <td>0.01750</td>\n",
       "      <td>G</td>\n",
       "      <td>0.0676</td>\n",
       "      <td>-10.127</td>\n",
       "      <td>Minor</td>\n",
       "      <td>0.0408</td>\n",
       "      <td>83.816</td>\n",
       "      <td>0.764</td>\n",
       "    </tr>\n",
       "  </tbody>\n",
       "</table>\n",
       "<p>5099 rows × 12 columns</p>\n",
       "</div>"
      ],
      "text/plain": [
       "      acousticness  danceability  duration_ms  energy  instrumentalness key  \\\n",
       "0         0.301000         0.757     146213.0   0.679           0.00000  A#   \n",
       "1         0.538000         0.256     240360.0   0.523           0.00832  G#   \n",
       "2         0.005830         0.678     284000.0   0.770           0.00000   A   \n",
       "3         0.020300         0.592     177354.0   0.749           0.00000   B   \n",
       "4         0.000335         0.421         -1.0   0.447           0.01480   D   \n",
       "...            ...           ...          ...     ...               ...  ..   \n",
       "5094      0.108000         0.558     163049.0   0.767           0.00000   E   \n",
       "5095      0.131000         0.435     196216.0   0.641           0.00000  A#   \n",
       "5096      0.152000         0.756     243373.0   0.787           0.00000   D   \n",
       "5097      0.001450         0.489     185600.0   0.974           0.63800  F#   \n",
       "5098      0.715000         0.538     256800.0   0.520           0.01750   G   \n",
       "\n",
       "      liveness  loudness   mode  speechiness    tempo  valence  \n",
       "0       0.3030    -7.136  Minor       0.3560   90.361    0.895  \n",
       "1       0.0849    -5.175  Major       0.0294   78.385    0.318  \n",
       "2       0.1090    -4.399  Minor       0.2220   90.000    0.412  \n",
       "3       0.1220    -4.604  Major       0.0483  160.046    0.614  \n",
       "4       0.0374    -8.833  Major       0.2020   73.830    0.121  \n",
       "...        ...       ...    ...          ...      ...      ...  \n",
       "5094    0.0954    -4.561  Minor       0.0491  158.019    0.715  \n",
       "5095    0.2730    -7.274  Major       0.1040  115.534    0.156  \n",
       "5096    0.2050    -7.423  Major       0.2400  123.405    0.459  \n",
       "5097    0.1230    -2.857  Minor       0.0381  150.036    0.665  \n",
       "5098    0.0676   -10.127  Minor       0.0408   83.816    0.764  \n",
       "\n",
       "[5099 rows x 12 columns]"
      ]
     },
     "execution_count": 11,
     "metadata": {},
     "output_type": "execute_result"
    }
   ],
   "source": [
    "df_test = df_test.drop(['instance_id', 'track_name', 'obtained_date'], axis =1)\n",
    "df_test"
   ]
  },
  {
   "cell_type": "markdown",
   "id": "e0f515c0-5669-42ea-945d-623d3a65fddb",
   "metadata": {},
   "source": [
    "Тут решил глянуть сколько будет классов"
   ]
  },
  {
   "cell_type": "code",
   "execution_count": 12,
   "id": "30976722-85c0-41b2-b435-7dc6b61dca28",
   "metadata": {},
   "outputs": [
    {
     "data": {
      "text/plain": [
       "music_genre\n",
       "Blues          2858\n",
       "Alternative    2601\n",
       "Electronic     2564\n",
       "Rap            2428\n",
       "Rock           2165\n",
       "Country        2120\n",
       "Anime          1901\n",
       "Classical      1373\n",
       "Jazz           1239\n",
       "Hip-Hop        1145\n",
       "Name: count, dtype: int64"
      ]
     },
     "execution_count": 12,
     "metadata": {},
     "output_type": "execute_result"
    }
   ],
   "source": [
    "df_train['music_genre'].value_counts()"
   ]
  },
  {
   "cell_type": "markdown",
   "id": "f10b6c50-0316-406c-aa62-4899c6fbebad",
   "metadata": {},
   "source": [
    "Смотрю распределение некоторых переменных, которые мне интересны"
   ]
  },
  {
   "cell_type": "markdown",
   "id": "5c6bb440-7c92-4e11-b5ac-78c2edaa073c",
   "metadata": {},
   "source": [
    "Ниже видим, что модальность преобладает в основном мажорная с приблизительным соотношением 2:1"
   ]
  },
  {
   "cell_type": "code",
   "execution_count": 13,
   "id": "6fb9f713-80f3-40f9-a6b9-bcd3c38a6bc1",
   "metadata": {},
   "outputs": [
    {
     "data": {
      "text/plain": [
       "mode\n",
       "Major    12828\n",
       "Minor     7060\n",
       "Name: count, dtype: int64"
      ]
     },
     "execution_count": 13,
     "metadata": {},
     "output_type": "execute_result"
    }
   ],
   "source": [
    "df_train['mode'].value_counts()"
   ]
  },
  {
   "cell_type": "code",
   "execution_count": 14,
   "id": "a18dbedf-8b12-43ee-b736-a82b6950b7a7",
   "metadata": {},
   "outputs": [
    {
     "data": {
      "text/plain": [
       "mode\n",
       "Major    3177\n",
       "Minor    1773\n",
       "Name: count, dtype: int64"
      ]
     },
     "execution_count": 14,
     "metadata": {},
     "output_type": "execute_result"
    }
   ],
   "source": [
    "df_test['mode'].value_counts()"
   ]
  },
  {
   "cell_type": "markdown",
   "id": "7bb27b2d-176f-4cfd-a63c-477ed8205e05",
   "metadata": {},
   "source": [
    "Смотрю распределение тональностей. Относительные доли примерно совпадают"
   ]
  },
  {
   "cell_type": "code",
   "execution_count": 15,
   "id": "ca556be2-9bbd-46e0-b8cf-cbd5a136266d",
   "metadata": {},
   "outputs": [
    {
     "data": {
      "text/plain": [
       "key\n",
       "D#    0.030826\n",
       "F#    0.061346\n",
       "A#    0.062262\n",
       "G#    0.064500\n",
       "E     0.077115\n",
       "B     0.077420\n",
       "F     0.082202\n",
       "A     0.102396\n",
       "D     0.107330\n",
       "C#    0.108093\n",
       "C     0.109314\n",
       "G     0.117198\n",
       "Name: proportion, dtype: float64"
      ]
     },
     "execution_count": 15,
     "metadata": {},
     "output_type": "execute_result"
    }
   ],
   "source": [
    "df_train['key'].value_counts(ascending=True, normalize = True)"
   ]
  },
  {
   "cell_type": "code",
   "execution_count": 16,
   "id": "5ba60118-441a-4acc-b2ba-aa69425eb14c",
   "metadata": {},
   "outputs": [
    {
     "data": {
      "text/plain": [
       "key\n",
       "D#    0.031573\n",
       "G#    0.063550\n",
       "F#    0.067395\n",
       "E     0.070633\n",
       "A#    0.071645\n",
       "B     0.080348\n",
       "F     0.093908\n",
       "A     0.094111\n",
       "C#    0.100182\n",
       "G     0.106659\n",
       "C     0.107266\n",
       "D     0.112730\n",
       "Name: proportion, dtype: float64"
      ]
     },
     "execution_count": 16,
     "metadata": {},
     "output_type": "execute_result"
    }
   ],
   "source": [
    "df_test['key'].value_counts(ascending=True, normalize = True)"
   ]
  },
  {
   "cell_type": "markdown",
   "id": "51af22ed-67f6-45a3-902d-76a296a1d213",
   "metadata": {},
   "source": [
    "Смотрим речевой характер"
   ]
  },
  {
   "cell_type": "code",
   "execution_count": 17,
   "id": "cae4ed09-5356-48d6-bc29-a0400947c03f",
   "metadata": {},
   "outputs": [
    {
     "data": {
      "image/png": "[encoded data removed]",
      "text/plain": [
       "<Figure size 640x480 with 1 Axes>"
      ]
     },
     "metadata": {},
     "output_type": "display_data"
    }
   ],
   "source": [
    "df_train['speechiness'].hist(bins = 20)\n",
    "plt.yscale('log')"
   ]
  },
  {
   "cell_type": "code",
   "execution_count": 18,
   "id": "14921f46-25a9-498e-b5d7-75aa0020c020",
   "metadata": {},
   "outputs": [
    {
     "data": {
      "image/png": "[encoded data removed]",
      "text/plain": [
       "<Figure size 640x480 with 1 Axes>"
      ]
     },
     "metadata": {},
     "output_type": "display_data"
    }
   ],
   "source": [
    "df_test['speechiness'].hist(bins = 20)\n",
    "plt.yscale('log')"
   ]
  },
  {
   "cell_type": "markdown",
   "id": "cfd31a93-fc94-42cb-8f60-c652f29e9ad9",
   "metadata": {},
   "source": [
    "По описанию значения выше 0,66 характеризуют треки, которые, вероятно, полностью состоят из разговорной речи значения от 0,33 до 0,66 характеризуют треки, которые могут содержать как музыку, так и речь, как в виде фрагментов, так и в виде слоев, включая такие случаи, как рэп-музыка. Значения ниже 0,33, скорее всего, представляют музыку и другие неречевые треки.\n",
    "\n",
    "Посмотрим на количество значений в диапазонах:  \n",
    "  0 : 0.33  \n",
    "  0.33 : 0.66  \n",
    "  0.66 : 1.  "
   ]
  },
  {
   "cell_type": "code",
   "execution_count": 19,
   "id": "d30b52ca-9e0a-4002-a45c-7669deb1e8fa",
   "metadata": {},
   "outputs": [
    {
     "data": {
      "text/plain": [
       "19543"
      ]
     },
     "execution_count": 19,
     "metadata": {},
     "output_type": "execute_result"
    }
   ],
   "source": [
    "df_train[df_train['speechiness'] <= 0.33]['speechiness'].count()"
   ]
  },
  {
   "cell_type": "code",
   "execution_count": 20,
   "id": "7f3282a0-d2b2-4106-8e7e-b2b9f163f100",
   "metadata": {},
   "outputs": [],
   "source": [
    "# df_train[df_train['speechiness'] <= 0.66]['speechiness'].count() - df_train[df_train['speechiness'] <= 0.33]['speechiness'].count()"
   ]
  },
  {
   "cell_type": "code",
   "execution_count": 21,
   "id": "7bfc76ee-539e-4332-b345-3c12f96fb4dc",
   "metadata": {},
   "outputs": [
    {
     "data": {
      "text/plain": [
       "834"
      ]
     },
     "execution_count": 21,
     "metadata": {},
     "output_type": "execute_result"
    }
   ],
   "source": [
    "df_train.query(\"`speechiness` >= 0.33 and `speechiness` <= 0.66\")['speechiness'].count()"
   ]
  },
  {
   "cell_type": "code",
   "execution_count": 22,
   "id": "5a598c6e-4b8e-4d14-93b9-b0f330e17f0e",
   "metadata": {},
   "outputs": [
    {
     "data": {
      "text/plain": [
       "25"
      ]
     },
     "execution_count": 22,
     "metadata": {},
     "output_type": "execute_result"
    }
   ],
   "source": [
    "df_train[df_train['speechiness'] >= 0.66]['speechiness'].count()"
   ]
  },
  {
   "cell_type": "markdown",
   "id": "9d26b110-4209-4dc1-91c8-1105d5d02f81",
   "metadata": {},
   "source": [
    "Тестовый датасет смотреть не стал, на гистограмме видно, что относительные значения будут примерно такими же. Большинство треков - не речевые. Все что больльше 0.66 можно вообще отнести к выбросам и откинуть. Можно попробовать добавить новый признак на основе колонки speechiness, поделив на 3 или 2 класса."
   ]
  },
  {
   "cell_type": "code",
   "execution_count": 23,
   "id": "7dc43d0c-4ec9-4870-b6d3-52a8af5b1fc5",
   "metadata": {},
   "outputs": [
    {
     "data": {
      "text/plain": [
       "<Axes: >"
      ]
     },
     "execution_count": 23,
     "metadata": {},
     "output_type": "execute_result"
    },
    {
     "data": {
      "image/png": "[encoded data removed]",
      "text/plain": [
       "<Figure size 640x480 with 1 Axes>"
      ]
     },
     "metadata": {},
     "output_type": "display_data"
    }
   ],
   "source": [
    "df_train['valence'].hist()"
   ]
  },
  {
   "cell_type": "code",
   "execution_count": 24,
   "id": "496dfd9b-777b-4f8a-af17-ea21a1ab7ded",
   "metadata": {},
   "outputs": [
    {
     "data": {
      "text/plain": [
       "<Axes: >"
      ]
     },
     "execution_count": 24,
     "metadata": {},
     "output_type": "execute_result"
    },
    {
     "data": {
      "image/png": "[encoded data removed]",
      "text/plain": [
       "<Figure size 640x480 with 1 Axes>"
      ]
     },
     "metadata": {},
     "output_type": "display_data"
    }
   ],
   "source": [
    "df_train['tempo'].hist()"
   ]
  },
  {
   "cell_type": "markdown",
   "id": "51d1a8b3-6a6d-4214-b7ec-dac728a2d367",
   "metadata": {},
   "source": [
    "Здесь видим подобие нормальных распределений, я бы трогать не стал."
   ]
  },
  {
   "cell_type": "code",
   "execution_count": 28,
   "id": "c02fea2b-30b1-46d3-88e4-77e0ed2c0cc4",
   "metadata": {},
   "outputs": [
    {
     "name": "stdout",
     "output_type": "stream",
     "text": [
      "interval columns not set, guessing: ['acousticness', 'danceability', 'duration_ms', 'energy', 'instrumentalness', 'liveness', 'loudness', 'speechiness', 'tempo', 'valence']\n"
     ]
    },
    {
     "data": {
      "text/plain": [
       "<Axes: >"
      ]
     },
     "execution_count": 28,
     "metadata": {},
     "output_type": "execute_result"
    },
    {
     "data": {
      "image/png": "[encoded data removed]",
      "text/plain": [
       "<Figure size 640x480 with 2 Axes>"
      ]
     },
     "metadata": {},
     "output_type": "display_data"
    }
   ],
   "source": [
    "sb.heatmap(df_train.phik_matrix())"
   ]
  },
  {
   "cell_type": "code",
   "execution_count": 26,
   "id": "dae23296-15c1-4fbc-82ae-06868912ae52",
   "metadata": {},
   "outputs": [],
   "source": [
    "# sb.pairplot(df_train)"
   ]
  },
  {
   "cell_type": "code",
   "execution_count": 27,
   "id": "f6f9c854-a5d9-4d94-be0f-1f7bec925e0b",
   "metadata": {},
   "outputs": [],
   "source": [
    "# sb.relplot(\n",
    "#     x=df_train['danceability'],\n",
    "#     y=df_train['acousticness'], \n",
    "#     # data=cars,\n",
    "#     # palette='bright',\n",
    "#     col=df_train['music_genre'])"
   ]
  },
  {
   "cell_type": "code",
   "execution_count": 28,
   "id": "018206ec-c41f-4824-9578-3b9af1637c1c",
   "metadata": {},
   "outputs": [],
   "source": [
    "# sb.relplot(\n",
    "#     x=df_train['music_genre'], \n",
    "#     y=df_train['acousticness'],\n",
    "#     height=4, aspect=2)"
   ]
  },
  {
   "cell_type": "code",
   "execution_count": 29,
   "id": "dc698e8a-d3a9-4f41-a711-599fa5abd063",
   "metadata": {},
   "outputs": [],
   "source": [
    "# sb.relplot(\n",
    "#     x=df_train['music_genre'], \n",
    "#     y=df_train['danceability'],\n",
    "#     height=4, aspect=2)"
   ]
  },
  {
   "cell_type": "code",
   "execution_count": 30,
   "id": "0fa8e32e-ce1a-446f-bbb5-48c986bcc01c",
   "metadata": {},
   "outputs": [],
   "source": [
    "# sb.relplot(\n",
    "#     x=df_train['music_genre'], \n",
    "#     y=df_train['duration_ms'],\n",
    "#     height=4, aspect=2)"
   ]
  },
  {
   "cell_type": "code",
   "execution_count": 31,
   "id": "9051214f-8ef6-4f99-89cd-35e8b8194609",
   "metadata": {},
   "outputs": [],
   "source": [
    "# sb.relplot(\n",
    "#     x=df_train['music_genre'], \n",
    "#     y=df_train['energy'],\n",
    "#     height=4, aspect=2)"
   ]
  },
  {
   "cell_type": "code",
   "execution_count": 32,
   "id": "acac5ee6-3956-49ea-8fa7-57c2031a3d61",
   "metadata": {},
   "outputs": [],
   "source": [
    "# sb.relplot(\n",
    "#     x=df_train['music_genre'], \n",
    "#     y=df_train['instrumentalness'],\n",
    "#     height=4, aspect=2)"
   ]
  },
  {
   "cell_type": "code",
   "execution_count": 33,
   "id": "cca0fa19-6f90-4c13-a10a-aa79b81e8c75",
   "metadata": {},
   "outputs": [],
   "source": [
    "# sb.relplot(\n",
    "#     x=df_train['music_genre'], \n",
    "#     y=df_train['key'],\n",
    "#     height=4, aspect=2)"
   ]
  },
  {
   "cell_type": "code",
   "execution_count": 34,
   "id": "ba1fd122-f42d-4c86-95fd-fa4f66453eab",
   "metadata": {},
   "outputs": [],
   "source": [
    "# sb.relplot(\n",
    "#     x=df_train['music_genre'], \n",
    "#     y=df_train['liveness'],\n",
    "#     height=4, aspect=2)"
   ]
  },
  {
   "cell_type": "code",
   "execution_count": 35,
   "id": "709a5391-676e-4a92-94c0-6f93e08440db",
   "metadata": {},
   "outputs": [],
   "source": [
    "# corr = df_train.drop(['key', 'mode', 'music_genre'],axis = 1).corr()\n",
    "# plt.figure(figsize = (10,10))\n",
    "\n",
    "# sb.heatmap(corr, cmap=\"Blues\", annot=True,  fmt=\".1f\")\n",
    "# plt.title('Тепловая карта корреляции переменных датасета', fontsize = 20)"
   ]
  },
  {
   "cell_type": "code",
   "execution_count": 36,
   "id": "dbd6061c-e489-47c8-bbd0-2bb0cd1d7066",
   "metadata": {},
   "outputs": [
    {
     "data": {
      "text/plain": [
       "30"
      ]
     },
     "execution_count": 36,
     "metadata": {},
     "output_type": "execute_result"
    }
   ],
   "source": [
    "df_test.duplicated().sum()"
   ]
  },
  {
   "cell_type": "code",
   "execution_count": null,
   "id": "2f546e80-da21-4007-90bb-4eafbb932ef0",
   "metadata": {},
   "outputs": [],
   "source": []
  },
  {
   "cell_type": "code",
   "execution_count": null,
   "id": "e69fb997-70b6-4b10-b31b-92a84cbce506",
   "metadata": {},
   "outputs": [],
   "source": []
  },
  {
   "cell_type": "code",
   "execution_count": null,
   "id": "29064f55-44e2-44bb-a136-9b9826924ac5",
   "metadata": {},
   "outputs": [],
   "source": []
  },
  {
   "cell_type": "code",
   "execution_count": null,
   "id": "16536515-64e5-4b84-83dc-63c44a7eaa5b",
   "metadata": {},
   "outputs": [],
   "source": []
  },
  {
   "cell_type": "code",
   "execution_count": null,
   "id": "be67b470-f503-412e-970a-e626f7c44bb2",
   "metadata": {},
   "outputs": [],
   "source": []
  },
  {
   "cell_type": "code",
   "execution_count": null,
   "id": "9094f222-eab6-40d0-bca9-71f7d97fcb0f",
   "metadata": {},
   "outputs": [],
   "source": []
  },
  {
   "cell_type": "code",
   "execution_count": null,
   "id": "31598c4b-4a7a-4053-af77-168fb4db606a",
   "metadata": {},
   "outputs": [],
   "source": []
  },
  {
   "cell_type": "code",
   "execution_count": null,
   "id": "1b304fff-e952-4dbb-9708-cb7dba554ac4",
   "metadata": {},
   "outputs": [],
   "source": []
  }
 ],
 "metadata": {
  "kernelspec": {
   "display_name": "Python 3 (ipykernel)",
   "language": "python",
   "name": "python3"
  },
  "language_info": {
   "codemirror_mode": {
    "name": "ipython",
    "version": 3
   },
   "file_extension": ".py",
   "mimetype": "text/x-python",
   "name": "python",
   "nbconvert_exporter": "python",
   "pygments_lexer": "ipython3",
   "version": "3.11.6"
  }
 },
 "nbformat": 4,
 "nbformat_minor": 5
}
